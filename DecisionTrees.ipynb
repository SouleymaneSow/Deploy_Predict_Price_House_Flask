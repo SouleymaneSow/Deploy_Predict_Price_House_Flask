{
 "cells": [
  {
   "cell_type": "code",
   "execution_count": null,
   "metadata": {
    "id": "ENcxDqT_2um7"
   },
   "outputs": [],
   "source": [
    "import os\n",
    "import pandas as pd\n",
    "import numpy as np\n",
    "import matplotlib.pyplot as plt\n",
    "import missingno as mno\n",
    "%matplotlib inline\n",
    "import seaborn as sns\n",
    "sns.set() \n",
    "#plt.rcParams[\"figure.figsize\"] = (20,10)\n",
    "\n",
    "# Setup display options of the notebook\n",
    "#pd.set_option('display.max_row', 200)\n",
    "pd.set_option('display.max_column', 111)"
   ]
  },
  {
   "cell_type": "markdown",
   "metadata": {
    "id": "35pEyjTq1bkv"
   },
   "source": [
    "# Decision Trees House Price Prediction"
   ]
  },
  {
   "cell_type": "code",
   "execution_count": null,
   "metadata": {
    "colab": {
     "base_uri": "https://localhost:8080/",
     "height": 505
    },
    "executionInfo": {
     "elapsed": 189,
     "status": "ok",
     "timestamp": 1627419185943,
     "user": {
      "displayName": "Souleymane Sow",
      "photoUrl": "https://lh3.googleusercontent.com/a-/AOh14GiZWlXwgoaaEFr05Bcn0eq1s8bT_PdxHCydRoTXYw=s64",
      "userId": "17552321789150987035"
     },
     "user_tz": -120
    },
    "id": "P-sQgcOO_5WR",
    "outputId": "492daf6a-043e-444b-b2c5-030765758281"
   },
   "outputs": [
    {
     "data": {
      "text/html": [
       "<iframe src=\"https://drive.google.com/file/d/1FqJTRKcC8XtatAtpJlhHE0zvFHUGelWz/preview\" width=\"640\" height=\"480\" allow=\"autoplay\">\n",
       "</iframe>"
      ],
      "text/plain": [
       "<IPython.core.display.HTML object>"
      ]
     },
     "metadata": {
      "tags": []
     },
     "output_type": "display_data"
    }
   ],
   "source": [
    "%%html\n",
    "<iframe src=\"https://drive.google.com/file/d/1FqJTRKcC8XtatAtpJlhHE0zvFHUGelWz/preview\" width=\"640\" height=\"480\" allow=\"autoplay\">\n",
    "</iframe>"
   ]
  },
  {
   "cell_type": "code",
   "execution_count": null,
   "metadata": {
    "colab": {
     "base_uri": "https://localhost:8080/",
     "height": 505
    },
    "executionInfo": {
     "elapsed": 287,
     "status": "ok",
     "timestamp": 1627419187632,
     "user": {
      "displayName": "Souleymane Sow",
      "photoUrl": "https://lh3.googleusercontent.com/a-/AOh14GiZWlXwgoaaEFr05Bcn0eq1s8bT_PdxHCydRoTXYw=s64",
      "userId": "17552321789150987035"
     },
     "user_tz": -120
    },
    "id": "CPnP9QK6EgQA",
    "outputId": "820e151e-c183-4abf-c211-370e39a20c8b"
   },
   "outputs": [
    {
     "data": {
      "text/html": [
       "<iframe src=\"https://drive.google.com/file/d/1Q3BgY9UwIEHDkjjJNJomg-_WUmIAQnFk/preview\" width=\"640\" height=\"480\" allow=\"autoplay\">\n",
       "</iframe>"
      ],
      "text/plain": [
       "<IPython.core.display.HTML object>"
      ]
     },
     "metadata": {
      "tags": []
     },
     "output_type": "display_data"
    }
   ],
   "source": [
    "%%html\n",
    "<iframe src=\"https://drive.google.com/file/d/1Q3BgY9UwIEHDkjjJNJomg-_WUmIAQnFk/preview\" width=\"640\" height=\"480\" allow=\"autoplay\">\n",
    "</iframe>"
   ]
  },
  {
   "cell_type": "code",
   "execution_count": null,
   "metadata": {
    "colab": {
     "base_uri": "https://localhost:8080/",
     "height": 505
    },
    "executionInfo": {
     "elapsed": 417,
     "status": "ok",
     "timestamp": 1627419191767,
     "user": {
      "displayName": "Souleymane Sow",
      "photoUrl": "https://lh3.googleusercontent.com/a-/AOh14GiZWlXwgoaaEFr05Bcn0eq1s8bT_PdxHCydRoTXYw=s64",
      "userId": "17552321789150987035"
     },
     "user_tz": -120
    },
    "id": "OskQ_f5oEr4I",
    "outputId": "9c810833-c712-4cc8-c75d-fa2774b28359"
   },
   "outputs": [
    {
     "data": {
      "text/html": [
       "<iframe src=\"https://drive.google.com/file/d/1dfqBT6ewhS1ltrYQ7wOvPgRXhtTKZUSg/preview\" width=\"640\" height=\"480\" allow=\"autoplay\">\n",
       "</iframe>"
      ],
      "text/plain": [
       "<IPython.core.display.HTML object>"
      ]
     },
     "metadata": {
      "tags": []
     },
     "output_type": "display_data"
    }
   ],
   "source": [
    "%%html\n",
    "<iframe src=\"https://drive.google.com/file/d/1dfqBT6ewhS1ltrYQ7wOvPgRXhtTKZUSg/preview\" width=\"640\" height=\"480\" allow=\"autoplay\">\n",
    "</iframe>"
   ]
  },
  {
   "cell_type": "code",
   "execution_count": null,
   "metadata": {
    "id": "OferCG-l7yv9"
   },
   "outputs": [],
   "source": [
    "def image_linker(links): \n",
    "  \"\"\"  Au fait, j'ai créé une fonction pour convertir les liens en liens partageables au cas où vous en auriez beaucoup \"\"\"\n",
    "\n",
    "  ids = []   \n",
    "  for link in links: \n",
    "    id = link[32:65] \n",
    "    ids.append(id) \n",
    "  new_links = [] \n",
    "  for i in ids: \n",
    "    id_link = 'drive.google.com/uc?export=view&id='+ i \n",
    "    new_links.append(id_link) \n",
    "  return new_links \n",
    "\n",
    "\n",
    "##Vous devrez peut-être autoriser les cookies tiers pour que l'image apparaisse ! Cela m'a donné un mal de tête 1h en essayant toutes les combinaisons de uc?export=view&id=..., uc?id=... et ainsi de suite. – cbo 26 février à 11:42 \n",
    "##Votre réponse ne fonctionne qu'avec cette simple modification ici: \n",
    "    ## 1. faites un clic droit sur l'image dans votre lecteur google et cliquez sur Get Link.\n",
    "    ## 2. choisissez Any one with this link, puis cliquez sur copier le lien, par exemple drive.google.com/file/d/1VbCjqRtQRun8lv7xOcBiZd7FidqU9lyh/… .\n",
    "     ##Voici 1VbCjqRtQRun8lv7xOcBiZd7FidqU9lyh l'identifiant dont vous avez besoin pour la prochaine étape. \n",
    "    ## 3. mettez ceci dans votre cellule de texte colab : ![]( drive.google.com/… ) "
   ]
  },
  {
   "cell_type": "markdown",
   "metadata": {
    "id": "oYw9NRM11bk-"
   },
   "source": [
    "## Common Terms Used With Decision Trees\n",
    "\n",
    "<ol>\n",
    "    <li>Root Node: It represents entire population or sample and this further gets divided into two or more homogeneous sets.</li>\n",
    "    <li>Splitting: It is a process of dividing a node into two or more sub-nodes.</li>\n",
    "    <li>Decision Node: When a sub-node splits into further sub-nodes, then it is called decision node.</li>\n",
    "    <li>Leaf/ Terminal Node: Nodes do not split is called Leaf or Terminal node.</li>\n",
    "    <li>Pruning: When we remove sub-nodes of a decision node, this process is called pruning. You can say opposite process of splitting.</li>\n",
    "    <li>Branch / Sub-Tree: A sub section of entire tree is called branch or sub-tree.</li>\n",
    "    <li>Parent and Child Node: A node, which is divided into sub-nodes is called parent node of sub-nodes whereas sub-nodes are the child of parent node.</li>\n",
    "</ol>"
   ]
  },
  {
   "cell_type": "markdown",
   "metadata": {
    "id": "nYCezoE01blB"
   },
   "source": [
    "# Advantages and Disadvantages OF DT"
   ]
  },
  {
   "cell_type": "markdown",
   "metadata": {
    "id": "SvDRkZpm1blC"
   },
   "source": [
    "<h1>Advantages</h1>\n",
    "\n",
    "<ul>\n",
    "    <li>Easy To Understand</li>\n",
    "    <li>Easy to generate rules</li>\n",
    "</ul>\n",
    "\n",
    "\n",
    "<h1>Disadvantages</h1>\n",
    "<ul>\n",
    "    <li>May suffer from overfitting</li>\n",
    "    <li>Do not easily handle numeric data</li>\n",
    "    <li>Can be quite large prunning is neccessary</li>\n",
    "</ul>"
   ]
  },
  {
   "cell_type": "markdown",
   "metadata": {
    "id": "CIQeKEqC1blE"
   },
   "source": [
    "# What is Regression"
   ]
  },
  {
   "cell_type": "markdown",
   "metadata": {
    "id": "KidWt_9o1blF"
   },
   "source": [
    "<p>Regression is a statistical measurement used in finance, investing, and other disciplines that attempts to determine the strength of the relationship between one dependent variable (usually denoted by Y) and a series of other changing variables (known as independent variables).\n",
    "\n",
    "\n",
    "Regression helps investment and financial managers to value assets and understand the relationships between variables, such as commodity prices and the stocks of businesses dealing in those commodities.</p>"
   ]
  },
  {
   "cell_type": "code",
   "execution_count": null,
   "metadata": {
    "id": "xiEPgzmz1blM"
   },
   "outputs": [],
   "source": [
    "df= pd.read_csv('Melbourne_housing_FULL.csv')"
   ]
  },
  {
   "cell_type": "code",
   "execution_count": null,
   "metadata": {
    "colab": {
     "base_uri": "https://localhost:8080/"
    },
    "executionInfo": {
     "elapsed": 20,
     "status": "ok",
     "timestamp": 1627419218661,
     "user": {
      "displayName": "Souleymane Sow",
      "photoUrl": "https://lh3.googleusercontent.com/a-/AOh14GiZWlXwgoaaEFr05Bcn0eq1s8bT_PdxHCydRoTXYw=s64",
      "userId": "17552321789150987035"
     },
     "user_tz": -120
    },
    "id": "pB9mHCKSHVxp",
    "outputId": "db304aa8-2c8a-4c88-a56c-19b84c0b6308"
   },
   "outputs": [
    {
     "data": {
      "text/plain": [
       "(34857, 21)"
      ]
     },
     "execution_count": 10,
     "metadata": {
      "tags": []
     },
     "output_type": "execute_result"
    }
   ],
   "source": [
    "df.shape"
   ]
  },
  {
   "cell_type": "code",
   "execution_count": null,
   "metadata": {
    "colab": {
     "base_uri": "https://localhost:8080/"
    },
    "executionInfo": {
     "elapsed": 17,
     "status": "ok",
     "timestamp": 1627419218662,
     "user": {
      "displayName": "Souleymane Sow",
      "photoUrl": "https://lh3.googleusercontent.com/a-/AOh14GiZWlXwgoaaEFr05Bcn0eq1s8bT_PdxHCydRoTXYw=s64",
      "userId": "17552321789150987035"
     },
     "user_tz": -120
    },
    "id": "B01VkTP_HZgI",
    "outputId": "70e80a3e-3579-4e53-b1ae-4aa9c7462bac"
   },
   "outputs": [
    {
     "name": "stdout",
     "output_type": "stream",
     "text": [
      "<class 'pandas.core.frame.DataFrame'>\n",
      "RangeIndex: 34857 entries, 0 to 34856\n",
      "Data columns (total 21 columns):\n",
      " #   Column         Non-Null Count  Dtype  \n",
      "---  ------         --------------  -----  \n",
      " 0   Suburb         34857 non-null  object \n",
      " 1   Address        34857 non-null  object \n",
      " 2   Rooms          34857 non-null  int64  \n",
      " 3   Type           34857 non-null  object \n",
      " 4   Price          27247 non-null  float64\n",
      " 5   Method         34857 non-null  object \n",
      " 6   SellerG        34857 non-null  object \n",
      " 7   Date           34857 non-null  object \n",
      " 8   Distance       34856 non-null  float64\n",
      " 9   Postcode       34856 non-null  float64\n",
      " 10  Bedroom2       26640 non-null  float64\n",
      " 11  Bathroom       26631 non-null  float64\n",
      " 12  Car            26129 non-null  float64\n",
      " 13  Landsize       23047 non-null  float64\n",
      " 14  BuildingArea   13742 non-null  float64\n",
      " 15  YearBuilt      15551 non-null  float64\n",
      " 16  CouncilArea    34854 non-null  object \n",
      " 17  Lattitude      26881 non-null  float64\n",
      " 18  Longtitude     26881 non-null  float64\n",
      " 19  Regionname     34854 non-null  object \n",
      " 20  Propertycount  34854 non-null  float64\n",
      "dtypes: float64(12), int64(1), object(8)\n",
      "memory usage: 5.6+ MB\n"
     ]
    }
   ],
   "source": [
    "df.info()"
   ]
  },
  {
   "cell_type": "code",
   "execution_count": null,
   "metadata": {
    "colab": {
     "base_uri": "https://localhost:8080/",
     "height": 317
    },
    "executionInfo": {
     "elapsed": 272,
     "status": "ok",
     "timestamp": 1627419225790,
     "user": {
      "displayName": "Souleymane Sow",
      "photoUrl": "https://lh3.googleusercontent.com/a-/AOh14GiZWlXwgoaaEFr05Bcn0eq1s8bT_PdxHCydRoTXYw=s64",
      "userId": "17552321789150987035"
     },
     "user_tz": -120
    },
    "id": "wuPEjsxF1blP",
    "outputId": "582e9a38-0615-45d4-8947-c7d8c67aee9c"
   },
   "outputs": [
    {
     "data": {
      "text/html": [
       "<div>\n",
       "<style scoped>\n",
       "    .dataframe tbody tr th:only-of-type {\n",
       "        vertical-align: middle;\n",
       "    }\n",
       "\n",
       "    .dataframe tbody tr th {\n",
       "        vertical-align: top;\n",
       "    }\n",
       "\n",
       "    .dataframe thead th {\n",
       "        text-align: right;\n",
       "    }\n",
       "</style>\n",
       "<table border=\"1\" class=\"dataframe\">\n",
       "  <thead>\n",
       "    <tr style=\"text-align: right;\">\n",
       "      <th></th>\n",
       "      <th>Rooms</th>\n",
       "      <th>Price</th>\n",
       "      <th>Distance</th>\n",
       "      <th>Postcode</th>\n",
       "      <th>Bedroom2</th>\n",
       "      <th>Bathroom</th>\n",
       "      <th>Car</th>\n",
       "      <th>Landsize</th>\n",
       "      <th>BuildingArea</th>\n",
       "      <th>YearBuilt</th>\n",
       "      <th>Lattitude</th>\n",
       "      <th>Longtitude</th>\n",
       "      <th>Propertycount</th>\n",
       "    </tr>\n",
       "  </thead>\n",
       "  <tbody>\n",
       "    <tr>\n",
       "      <th>count</th>\n",
       "      <td>34857.000000</td>\n",
       "      <td>2.724700e+04</td>\n",
       "      <td>34856.000000</td>\n",
       "      <td>34856.000000</td>\n",
       "      <td>26640.000000</td>\n",
       "      <td>26631.000000</td>\n",
       "      <td>26129.000000</td>\n",
       "      <td>23047.000000</td>\n",
       "      <td>13742.00000</td>\n",
       "      <td>15551.000000</td>\n",
       "      <td>26881.000000</td>\n",
       "      <td>26881.000000</td>\n",
       "      <td>34854.000000</td>\n",
       "    </tr>\n",
       "    <tr>\n",
       "      <th>mean</th>\n",
       "      <td>3.031012</td>\n",
       "      <td>1.050173e+06</td>\n",
       "      <td>11.184929</td>\n",
       "      <td>3116.062859</td>\n",
       "      <td>3.084647</td>\n",
       "      <td>1.624798</td>\n",
       "      <td>1.728845</td>\n",
       "      <td>593.598993</td>\n",
       "      <td>160.25640</td>\n",
       "      <td>1965.289885</td>\n",
       "      <td>-37.810634</td>\n",
       "      <td>145.001851</td>\n",
       "      <td>7572.888306</td>\n",
       "    </tr>\n",
       "    <tr>\n",
       "      <th>std</th>\n",
       "      <td>0.969933</td>\n",
       "      <td>6.414671e+05</td>\n",
       "      <td>6.788892</td>\n",
       "      <td>109.023903</td>\n",
       "      <td>0.980690</td>\n",
       "      <td>0.724212</td>\n",
       "      <td>1.010771</td>\n",
       "      <td>3398.841946</td>\n",
       "      <td>401.26706</td>\n",
       "      <td>37.328178</td>\n",
       "      <td>0.090279</td>\n",
       "      <td>0.120169</td>\n",
       "      <td>4428.090313</td>\n",
       "    </tr>\n",
       "    <tr>\n",
       "      <th>min</th>\n",
       "      <td>1.000000</td>\n",
       "      <td>8.500000e+04</td>\n",
       "      <td>0.000000</td>\n",
       "      <td>3000.000000</td>\n",
       "      <td>0.000000</td>\n",
       "      <td>0.000000</td>\n",
       "      <td>0.000000</td>\n",
       "      <td>0.000000</td>\n",
       "      <td>0.00000</td>\n",
       "      <td>1196.000000</td>\n",
       "      <td>-38.190430</td>\n",
       "      <td>144.423790</td>\n",
       "      <td>83.000000</td>\n",
       "    </tr>\n",
       "    <tr>\n",
       "      <th>25%</th>\n",
       "      <td>2.000000</td>\n",
       "      <td>6.350000e+05</td>\n",
       "      <td>6.400000</td>\n",
       "      <td>3051.000000</td>\n",
       "      <td>2.000000</td>\n",
       "      <td>1.000000</td>\n",
       "      <td>1.000000</td>\n",
       "      <td>224.000000</td>\n",
       "      <td>102.00000</td>\n",
       "      <td>1940.000000</td>\n",
       "      <td>-37.862950</td>\n",
       "      <td>144.933500</td>\n",
       "      <td>4385.000000</td>\n",
       "    </tr>\n",
       "    <tr>\n",
       "      <th>50%</th>\n",
       "      <td>3.000000</td>\n",
       "      <td>8.700000e+05</td>\n",
       "      <td>10.300000</td>\n",
       "      <td>3103.000000</td>\n",
       "      <td>3.000000</td>\n",
       "      <td>2.000000</td>\n",
       "      <td>2.000000</td>\n",
       "      <td>521.000000</td>\n",
       "      <td>136.00000</td>\n",
       "      <td>1970.000000</td>\n",
       "      <td>-37.807600</td>\n",
       "      <td>145.007800</td>\n",
       "      <td>6763.000000</td>\n",
       "    </tr>\n",
       "    <tr>\n",
       "      <th>75%</th>\n",
       "      <td>4.000000</td>\n",
       "      <td>1.295000e+06</td>\n",
       "      <td>14.000000</td>\n",
       "      <td>3156.000000</td>\n",
       "      <td>4.000000</td>\n",
       "      <td>2.000000</td>\n",
       "      <td>2.000000</td>\n",
       "      <td>670.000000</td>\n",
       "      <td>188.00000</td>\n",
       "      <td>2000.000000</td>\n",
       "      <td>-37.754100</td>\n",
       "      <td>145.071900</td>\n",
       "      <td>10412.000000</td>\n",
       "    </tr>\n",
       "    <tr>\n",
       "      <th>max</th>\n",
       "      <td>16.000000</td>\n",
       "      <td>1.120000e+07</td>\n",
       "      <td>48.100000</td>\n",
       "      <td>3978.000000</td>\n",
       "      <td>30.000000</td>\n",
       "      <td>12.000000</td>\n",
       "      <td>26.000000</td>\n",
       "      <td>433014.000000</td>\n",
       "      <td>44515.00000</td>\n",
       "      <td>2106.000000</td>\n",
       "      <td>-37.390200</td>\n",
       "      <td>145.526350</td>\n",
       "      <td>21650.000000</td>\n",
       "    </tr>\n",
       "  </tbody>\n",
       "</table>\n",
       "</div>"
      ],
      "text/plain": [
       "              Rooms         Price      Distance      Postcode      Bedroom2  \\\n",
       "count  34857.000000  2.724700e+04  34856.000000  34856.000000  26640.000000   \n",
       "mean       3.031012  1.050173e+06     11.184929   3116.062859      3.084647   \n",
       "std        0.969933  6.414671e+05      6.788892    109.023903      0.980690   \n",
       "min        1.000000  8.500000e+04      0.000000   3000.000000      0.000000   \n",
       "25%        2.000000  6.350000e+05      6.400000   3051.000000      2.000000   \n",
       "50%        3.000000  8.700000e+05     10.300000   3103.000000      3.000000   \n",
       "75%        4.000000  1.295000e+06     14.000000   3156.000000      4.000000   \n",
       "max       16.000000  1.120000e+07     48.100000   3978.000000     30.000000   \n",
       "\n",
       "           Bathroom           Car       Landsize  BuildingArea     YearBuilt  \\\n",
       "count  26631.000000  26129.000000   23047.000000   13742.00000  15551.000000   \n",
       "mean       1.624798      1.728845     593.598993     160.25640   1965.289885   \n",
       "std        0.724212      1.010771    3398.841946     401.26706     37.328178   \n",
       "min        0.000000      0.000000       0.000000       0.00000   1196.000000   \n",
       "25%        1.000000      1.000000     224.000000     102.00000   1940.000000   \n",
       "50%        2.000000      2.000000     521.000000     136.00000   1970.000000   \n",
       "75%        2.000000      2.000000     670.000000     188.00000   2000.000000   \n",
       "max       12.000000     26.000000  433014.000000   44515.00000   2106.000000   \n",
       "\n",
       "          Lattitude    Longtitude  Propertycount  \n",
       "count  26881.000000  26881.000000   34854.000000  \n",
       "mean     -37.810634    145.001851    7572.888306  \n",
       "std        0.090279      0.120169    4428.090313  \n",
       "min      -38.190430    144.423790      83.000000  \n",
       "25%      -37.862950    144.933500    4385.000000  \n",
       "50%      -37.807600    145.007800    6763.000000  \n",
       "75%      -37.754100    145.071900   10412.000000  \n",
       "max      -37.390200    145.526350   21650.000000  "
      ]
     },
     "execution_count": 12,
     "metadata": {
      "tags": []
     },
     "output_type": "execute_result"
    }
   ],
   "source": [
    "df.describe()"
   ]
  },
  {
   "cell_type": "code",
   "execution_count": null,
   "metadata": {
    "colab": {
     "base_uri": "https://localhost:8080/",
     "height": 486
    },
    "executionInfo": {
     "elapsed": 1202,
     "status": "ok",
     "timestamp": 1627419232681,
     "user": {
      "displayName": "Souleymane Sow",
      "photoUrl": "https://lh3.googleusercontent.com/a-/AOh14GiZWlXwgoaaEFr05Bcn0eq1s8bT_PdxHCydRoTXYw=s64",
      "userId": "17552321789150987035"
     },
     "user_tz": -120
    },
    "id": "SRX0PI5vLh78",
    "outputId": "2bcb9f5e-cfd5-4eb5-ffab-3a07e1694194"
   },
   "outputs": [
    {
     "data": {
      "text/plain": [
       "<matplotlib.axes._subplots.AxesSubplot at 0x7f232aca4410>"
      ]
     },
     "execution_count": 13,
     "metadata": {
      "tags": []
     },
     "output_type": "execute_result"
    },
    {
     "data": {
      "image/png": "[encoded data removed]",
      "text/plain": [
       "<Figure size 1440x432 with 2 Axes>"
      ]
     },
     "metadata": {
      "needs_background": "light",
      "tags": []
     },
     "output_type": "display_data"
    }
   ],
   "source": [
    "mno.matrix(df, figsize = (20, 6))"
   ]
  },
  {
   "cell_type": "code",
   "execution_count": null,
   "metadata": {
    "colab": {
     "base_uri": "https://localhost:8080/"
    },
    "executionInfo": {
     "elapsed": 290,
     "status": "ok",
     "timestamp": 1627419235396,
     "user": {
      "displayName": "Souleymane Sow",
      "photoUrl": "https://lh3.googleusercontent.com/a-/AOh14GiZWlXwgoaaEFr05Bcn0eq1s8bT_PdxHCydRoTXYw=s64",
      "userId": "17552321789150987035"
     },
     "user_tz": -120
    },
    "id": "vstRh0n_M4aA",
    "outputId": "510cfd65-5ef8-4ac6-be0a-e2af3ecf4b61"
   },
   "outputs": [
    {
     "name": "stdout",
     "output_type": "stream",
     "text": [
      "> Suburb, Missing: 0  total 0.0 %\n",
      "> Address, Missing: 0  total 0.0 %\n",
      "> Rooms, Missing: 0  total 0.0 %\n",
      "> Type, Missing: 0  total 0.0 %\n",
      "> Price, Missing: 7610  total 21.83205668875692 %\n",
      "> Method, Missing: 0  total 0.0 %\n",
      "> SellerG, Missing: 0  total 0.0 %\n",
      "> Date, Missing: 0  total 0.0 %\n",
      "> Distance, Missing: 1  total 0.002868864216656626 %\n",
      "> Postcode, Missing: 1  total 0.002868864216656626 %\n",
      "> Bedroom2, Missing: 8217  total 23.573457268267493 %\n",
      "> Bathroom, Missing: 8226  total 23.599277046217402 %\n",
      "> Car, Missing: 8728  total 25.03944688297903 %\n",
      "> Landsize, Missing: 11810  total 33.88128639871475 %\n",
      "> BuildingArea, Missing: 21115  total 60.576067934704646 %\n",
      "> YearBuilt, Missing: 19306  total 55.38629256677281 %\n",
      "> CouncilArea, Missing: 3  total 0.008606592649969878 %\n",
      "> Lattitude, Missing: 7976  total 22.882060992053248 %\n",
      "> Longtitude, Missing: 7976  total 22.882060992053248 %\n",
      "> Regionname, Missing: 3  total 0.008606592649969878 %\n",
      "> Propertycount, Missing: 3  total 0.008606592649969878 %\n"
     ]
    }
   ],
   "source": [
    "for i in (df.columns):\n",
    "    # count number of rows with missing values\n",
    "    n_miss = df[i].isnull().sum()\n",
    "    perc = n_miss / df.shape[0] * 100\n",
    "    \n",
    "    print('> {}, Missing: {}  total {} %' .format (i, n_miss, perc))"
   ]
  },
  {
   "cell_type": "markdown",
   "metadata": {
    "id": "VFxHK5GXNS-f"
   },
   "source": [
    "<p>On remarque que le BuildingArea et le YearBuilt ont plus de 50% de valeurs manquantes</p>.\n",
    "\n",
    "You can already see that the BuildingArea column has the first entry as NaN which means the value is not available there. We can go ahead and drop all the rows which does not have the BuildingArea value or we can drop the BuildingArea column altogether.\n",
    "\n"
   ]
  },
  {
   "cell_type": "code",
   "execution_count": null,
   "metadata": {
    "colab": {
     "base_uri": "https://localhost:8080/"
    },
    "executionInfo": {
     "elapsed": 230,
     "status": "ok",
     "timestamp": 1627419239926,
     "user": {
      "displayName": "Souleymane Sow",
      "photoUrl": "https://lh3.googleusercontent.com/a-/AOh14GiZWlXwgoaaEFr05Bcn0eq1s8bT_PdxHCydRoTXYw=s64",
      "userId": "17552321789150987035"
     },
     "user_tz": -120
    },
    "id": "Zznc_uSl1blW",
    "outputId": "f02b4c89-40e5-4f20-c889-bb25715bab18"
   },
   "outputs": [
    {
     "data": {
      "text/plain": [
       "Index(['Suburb', 'Address', 'Rooms', 'Type', 'Price', 'Method', 'SellerG',\n",
       "       'Date', 'Distance', 'Postcode', 'Bedroom2', 'Bathroom', 'Car',\n",
       "       'Landsize', 'BuildingArea', 'YearBuilt', 'CouncilArea', 'Lattitude',\n",
       "       'Longtitude', 'Regionname', 'Propertycount'],\n",
       "      dtype='object')"
      ]
     },
     "execution_count": 15,
     "metadata": {
      "tags": []
     },
     "output_type": "execute_result"
    }
   ],
   "source": [
    "df.columns"
   ]
  },
  {
   "cell_type": "code",
   "execution_count": null,
   "metadata": {
    "id": "k3hLJrkj1blX"
   },
   "outputs": [],
   "source": [
    "## df= df.dropna(axis=0)\n",
    "df.dropna(inplace =True)"
   ]
  },
  {
   "cell_type": "code",
   "execution_count": null,
   "metadata": {
    "colab": {
     "base_uri": "https://localhost:8080/"
    },
    "executionInfo": {
     "elapsed": 13,
     "status": "ok",
     "timestamp": 1627419244357,
     "user": {
      "displayName": "Souleymane Sow",
      "photoUrl": "https://lh3.googleusercontent.com/a-/AOh14GiZWlXwgoaaEFr05Bcn0eq1s8bT_PdxHCydRoTXYw=s64",
      "userId": "17552321789150987035"
     },
     "user_tz": -120
    },
    "id": "gpt3mXUmKjD9",
    "outputId": "07edb277-04a4-4712-ae4e-ec1df8f40f48"
   },
   "outputs": [
    {
     "data": {
      "text/plain": [
       "(8887, 21)"
      ]
     },
     "execution_count": 17,
     "metadata": {
      "tags": []
     },
     "output_type": "execute_result"
    }
   ],
   "source": [
    "df.shape"
   ]
  },
  {
   "cell_type": "code",
   "execution_count": null,
   "metadata": {
    "colab": {
     "base_uri": "https://localhost:8080/"
    },
    "executionInfo": {
     "elapsed": 10,
     "status": "ok",
     "timestamp": 1627419245639,
     "user": {
      "displayName": "Souleymane Sow",
      "photoUrl": "https://lh3.googleusercontent.com/a-/AOh14GiZWlXwgoaaEFr05Bcn0eq1s8bT_PdxHCydRoTXYw=s64",
      "userId": "17552321789150987035"
     },
     "user_tz": -120
    },
    "id": "Wwn3Se1-Kl_E",
    "outputId": "aa686f1d-a5a6-45b6-9307-b80df441b5d4"
   },
   "outputs": [
    {
     "name": "stdout",
     "output_type": "stream",
     "text": [
      "<class 'pandas.core.frame.DataFrame'>\n",
      "Int64Index: 8887 entries, 2 to 34856\n",
      "Data columns (total 21 columns):\n",
      " #   Column         Non-Null Count  Dtype  \n",
      "---  ------         --------------  -----  \n",
      " 0   Suburb         8887 non-null   object \n",
      " 1   Address        8887 non-null   object \n",
      " 2   Rooms          8887 non-null   int64  \n",
      " 3   Type           8887 non-null   object \n",
      " 4   Price          8887 non-null   float64\n",
      " 5   Method         8887 non-null   object \n",
      " 6   SellerG        8887 non-null   object \n",
      " 7   Date           8887 non-null   object \n",
      " 8   Distance       8887 non-null   float64\n",
      " 9   Postcode       8887 non-null   float64\n",
      " 10  Bedroom2       8887 non-null   float64\n",
      " 11  Bathroom       8887 non-null   float64\n",
      " 12  Car            8887 non-null   float64\n",
      " 13  Landsize       8887 non-null   float64\n",
      " 14  BuildingArea   8887 non-null   float64\n",
      " 15  YearBuilt      8887 non-null   float64\n",
      " 16  CouncilArea    8887 non-null   object \n",
      " 17  Lattitude      8887 non-null   float64\n",
      " 18  Longtitude     8887 non-null   float64\n",
      " 19  Regionname     8887 non-null   object \n",
      " 20  Propertycount  8887 non-null   float64\n",
      "dtypes: float64(12), int64(1), object(8)\n",
      "memory usage: 1.5+ MB\n"
     ]
    }
   ],
   "source": [
    "df.info()"
   ]
  },
  {
   "cell_type": "code",
   "execution_count": null,
   "metadata": {
    "colab": {
     "base_uri": "https://localhost:8080/",
     "height": 486
    },
    "executionInfo": {
     "elapsed": 1005,
     "status": "ok",
     "timestamp": 1627419253851,
     "user": {
      "displayName": "Souleymane Sow",
      "photoUrl": "https://lh3.googleusercontent.com/a-/AOh14GiZWlXwgoaaEFr05Bcn0eq1s8bT_PdxHCydRoTXYw=s64",
      "userId": "17552321789150987035"
     },
     "user_tz": -120
    },
    "id": "9qlnwvGZUGNY",
    "outputId": "3e3eb370-2251-4e3d-9fdb-54e60c16bb8d"
   },
   "outputs": [
    {
     "data": {
      "text/plain": [
       "<matplotlib.axes._subplots.AxesSubplot at 0x7f232acec490>"
      ]
     },
     "execution_count": 19,
     "metadata": {
      "tags": []
     },
     "output_type": "execute_result"
    },
    {
     "data": {
      "image/png": "[encoded data removed]",
      "text/plain": [
       "<Figure size 1080x432 with 2 Axes>"
      ]
     },
     "metadata": {
      "needs_background": "light",
      "tags": []
     },
     "output_type": "display_data"
    }
   ],
   "source": [
    "#dropna function in Pandas removes all the rows with missing values\n",
    "\n",
    "mno.matrix(df, figsize = (15, 6))"
   ]
  },
  {
   "cell_type": "markdown",
   "metadata": {
    "id": "XKy5MssjU5WB"
   },
   "source": [
    "Both the approaches have their own advantages and disadvantages and you will have to analyze for your use case to decide what needs to be done. If we drop the rows our total number of data points to train our model will go down which can reduce the model performance. Do this only if you have large number of training examples and the rows with missing data are not very high in number. Dropping the column altogether will remove a feature from our model i.e the model predictions will be independent of the building area. Sometimes you can drop variables or columns if the data is missing for more than 60% observations but only if that variable is insignificant. In general dropping data is not a good approach in most cases since you loose a lot of potentially useful information. Lets look at a better approach for dealing with missing data."
   ]
  },
  {
   "cell_type": "code",
   "execution_count": null,
   "metadata": {
    "id": "aJl7ySzzV4Ra"
   },
   "outputs": [],
   "source": [
    "#df['BuildingArea'].fillna(df['BuildingArea'].mean(), inplace=True)\n",
    "#df.head(5)\n",
    "\n",
    "\n",
    "#2. Replace with mean value\n",
    "#works only with Numerical features\n",
    "\n",
    "#from sklearn.impute import SimpleImputer\n",
    "#my_imputer = SimpleImputer()\n",
    "#data_selected = data[['Rooms','Bedroom2', 'Bathroom', 'Car', 'Landsize','Price', 'Lattitude', 'Longtitude', 'Propertycount', 'BuildingArea']]\n",
    "#data_with_imputed_values = my_imputer.fit_transform(data_selected)\n",
    "#df=pd.DataFrame(data_with_imputed_values)\n",
    "#df.head()\n",
    "\n",
    "\n",
    "# make copy to avoid changing original data (when Imputing)\n",
    "#new_data = data_selected.copy()\n",
    "\n",
    "\n",
    "# Imputation\n",
    "#my_imputer = SimpleImputer()\n",
    "#new_data = pd.DataFrame(my_imputer.fit_transform(new_data))\n",
    "#new_data.columns = data_selected.columns"
   ]
  },
  {
   "cell_type": "markdown",
   "metadata": {
    "id": "KZnJWHVTWKL9"
   },
   "source": [
    "- A Better Option: Imputation\n",
    "A slightly better approach towards handling missing data is Imputation. Imputation means to replace or fill the missing data with some value. Imputation fills in the missing value with some number. The imputed value won't be exactly right in most cases, but it usually gives more accurate models than dropping the column entirely.\n",
    "\n",
    "- There are lot of ways to impute the data:\n",
    "    1. A constant value that belongs to the set of possible values of that variable, such as 0, distinct from all other values\n",
    "    2. A mean, median or mode value for the column\n",
    "    3. A value estimated by another predictive model\n",
    "    4. Multiple Imputation"
   ]
  },
  {
   "cell_type": "code",
   "execution_count": null,
   "metadata": {
    "colab": {
     "base_uri": "https://localhost:8080/",
     "height": 724
    },
    "executionInfo": {
     "elapsed": 2793,
     "status": "ok",
     "timestamp": 1627419265872,
     "user": {
      "displayName": "Souleymane Sow",
      "photoUrl": "https://lh3.googleusercontent.com/a-/AOh14GiZWlXwgoaaEFr05Bcn0eq1s8bT_PdxHCydRoTXYw=s64",
      "userId": "17552321789150987035"
     },
     "user_tz": -120
    },
    "id": "Jr00Ln7aWA4z",
    "outputId": "718938db-7d70-4714-8048-c41ce162a4f3"
   },
   "outputs": [
    {
     "data": {
      "text/plain": [
       "<matplotlib.axes._subplots.AxesSubplot at 0x7f232ad33d10>"
      ]
     },
     "execution_count": 20,
     "metadata": {
      "tags": []
     },
     "output_type": "execute_result"
    },
    {
     "data": {
      "image/png": "[encoded data removed]",
      "text/plain": [
       "<Figure size 2304x720 with 2 Axes>"
      ]
     },
     "metadata": {
      "needs_background": "light",
      "tags": []
     },
     "output_type": "display_data"
    }
   ],
   "source": [
    "colormap = plt.cm.RdBu\n",
    "plt.figure(figsize=(32,10))\n",
    "plt.title('Correlation of Features', y=1.05, size=15)\n",
    "sns.heatmap(df.corr(),linewidths=0.1,vmax=1.0, \n",
    "            square=True, cmap=colormap, linecolor='white', annot=True)"
   ]
  },
  {
   "cell_type": "markdown",
   "metadata": {
    "id": "eYiB20Omo3HJ"
   },
   "source": [
    "A premier vue buldingarea n'est pas trop corrélé au price."
   ]
  },
  {
   "cell_type": "markdown",
   "metadata": {
    "id": "K7lTm3xAaCGC"
   },
   "source": [
    "We then plot a correlation matrix to find out which variables are correlated to each other which we will use as independent predictor variables for predicting missing values.\n",
    "\n",
    "We see that our variable of interest BuildingArea is correlated to Rooms, Bedroom2, Bathroom, Car, Landsize. We will use these variables to predict the missing values of BuilaingArea.\n",
    "\n",
    "The predicted values from the model are inserted into the original dataframe. It theoretically provides good estimates for missing values. However, there are several disadvantages of this model which tend to outweigh the advantages. The replaced values are completely determined by a model applied to other variables and they tend to fit together too well, in other words, they contain no error. One must also assume that there is a linear relationship between the variables used in the regression equation which may not be the case always."
   ]
  },
  {
   "cell_type": "code",
   "execution_count": null,
   "metadata": {
    "colab": {
     "base_uri": "https://localhost:8080/"
    },
    "executionInfo": {
     "elapsed": 208,
     "status": "ok",
     "timestamp": 1627419272320,
     "user": {
      "displayName": "Souleymane Sow",
      "photoUrl": "https://lh3.googleusercontent.com/a-/AOh14GiZWlXwgoaaEFr05Bcn0eq1s8bT_PdxHCydRoTXYw=s64",
      "userId": "17552321789150987035"
     },
     "user_tz": -120
    },
    "id": "bOfHUgSgZ5oH",
    "outputId": "69a1b5d2-c600-4e9a-8bcc-c35d2e135c6a"
   },
   "outputs": [
    {
     "data": {
      "text/plain": [
       "Rooms            0.475074\n",
       "Price            1.000000\n",
       "Distance        -0.231212\n",
       "Postcode         0.046033\n",
       "Bedroom2         0.460880\n",
       "Bathroom         0.463501\n",
       "Car              0.209464\n",
       "Landsize         0.058375\n",
       "BuildingArea     0.507284\n",
       "YearBuilt       -0.313664\n",
       "Lattitude       -0.224255\n",
       "Longtitude       0.212174\n",
       "Propertycount   -0.059720\n",
       "Name: Price, dtype: float64"
      ]
     },
     "execution_count": 21,
     "metadata": {
      "tags": []
     },
     "output_type": "execute_result"
    }
   ],
   "source": [
    "df.corr()['Price']"
   ]
  },
  {
   "cell_type": "code",
   "execution_count": null,
   "metadata": {
    "id": "MpKVpeD4dDQs"
   },
   "outputs": [],
   "source": [
    "#from sklearn.impute import SimpleImputer\n",
    "## make copy to avoid changing original data (when Imputing)\n",
    "#df_selected = df[['Rooms','Bedroom2', 'Bathroom', 'Car', 'Landsize','Price', 'Lattitude', 'Longtitude', 'Propertycount', 'BuildingArea','YearBuilt']]\n",
    "#new_data = df_selected.copy()\n",
    "\n",
    "# Imputation\n",
    "#my_imputer = SimpleImputer()\n",
    "#new_data = pd.DataFrame(my_imputer.fit_transform(new_data))\n",
    "#new_data.columns = df_selected.columns"
   ]
  },
  {
   "cell_type": "code",
   "execution_count": null,
   "metadata": {
    "id": "8aEXdqQTp058"
   },
   "outputs": [],
   "source": [
    "#colormap = plt.cm.RdBu\n",
    "#plt.figure(figsize=(32,10))\n",
    "#plt.title('Correlation of Features', y=1.05, size=15)\n",
    "#sns.heatmap(new_data.corr(),linewidths=0.1,vmax=1.0, \n",
    "            #square=True, cmap=colormap, linecolor='white', annot=True)"
   ]
  },
  {
   "cell_type": "code",
   "execution_count": null,
   "metadata": {
    "id": "NiZB03ky1blY"
   },
   "outputs": [],
   "source": [
    "#melbourne_features=['Rooms','Bedroom2','Bathroom','Landsize','Lattitude','Longtitude','Car','Landsize','BuildingArea','YearBuilt','Propertycount']"
   ]
  },
  {
   "cell_type": "markdown",
   "metadata": {
    "id": "_6MHTdth_MYX"
   },
   "source": [
    "Feature Selection : how to drop features using pearson correlation"
   ]
  },
  {
   "cell_type": "code",
   "execution_count": null,
   "metadata": {
    "id": "ghpCIuln_LhY"
   },
   "outputs": [],
   "source": [
    "## with the following function we can select highly correlated features\n",
    "## it will remove the first feature that is correlated with anything other feature\n",
    "\n",
    "def correlation(dataset, threshold) :\n",
    "  col_corr = set() ## set of all the names of correlated columns\n",
    "  corr_matrix = dataset.corr()\n",
    "  for i in range(len(corr_matrix.columns)) :\n",
    "    for j in range(i):\n",
    "      if (abs(corr_matrix.iloc[i,j]) > threshold) : ## we are interested in abs coeff value\n",
    "        colname = corr_matrix.columns[i]  ## getting the name of the column\n",
    "        col_corr.add(colname)\n",
    "  return col_corr"
   ]
  },
  {
   "cell_type": "code",
   "execution_count": null,
   "metadata": {
    "colab": {
     "base_uri": "https://localhost:8080/"
    },
    "executionInfo": {
     "elapsed": 209,
     "status": "ok",
     "timestamp": 1627419286328,
     "user": {
      "displayName": "Souleymane Sow",
      "photoUrl": "https://lh3.googleusercontent.com/a-/AOh14GiZWlXwgoaaEFr05Bcn0eq1s8bT_PdxHCydRoTXYw=s64",
      "userId": "17552321789150987035"
     },
     "user_tz": -120
    },
    "id": "Hfz7A8-tCTIn",
    "outputId": "3c9e89a0-9ff1-4b2a-b9b6-ececc1220c5f"
   },
   "outputs": [
    {
     "data": {
      "text/plain": [
       "{'Bathroom', 'Bedroom2', 'BuildingArea'}"
      ]
     },
     "execution_count": 23,
     "metadata": {
      "tags": []
     },
     "output_type": "execute_result"
    }
   ],
   "source": [
    "correlation(df,0.6)"
   ]
  },
  {
   "cell_type": "markdown",
   "metadata": {
    "id": "dGDiYgFlD5MP"
   },
   "source": [
    "- supprime les nan de building area ----> plus de performance, et buidingarea est tres corrélé à Price.\n",
    "- impute les valeurs par mean ------> modèle moins performant, building pas du tout corrélé avec price"
   ]
  },
  {
   "cell_type": "code",
   "execution_count": null,
   "metadata": {
    "colab": {
     "base_uri": "https://localhost:8080/",
     "height": 230
    },
    "executionInfo": {
     "elapsed": 198,
     "status": "ok",
     "timestamp": 1627419292488,
     "user": {
      "displayName": "Souleymane Sow",
      "photoUrl": "https://lh3.googleusercontent.com/a-/AOh14GiZWlXwgoaaEFr05Bcn0eq1s8bT_PdxHCydRoTXYw=s64",
      "userId": "17552321789150987035"
     },
     "user_tz": -120
    },
    "id": "WQr3N8Al4tw4",
    "outputId": "89e5e774-1d37-4c4a-9753-e770bf451c87"
   },
   "outputs": [
    {
     "data": {
      "text/html": [
       "<div>\n",
       "<style scoped>\n",
       "    .dataframe tbody tr th:only-of-type {\n",
       "        vertical-align: middle;\n",
       "    }\n",
       "\n",
       "    .dataframe tbody tr th {\n",
       "        vertical-align: top;\n",
       "    }\n",
       "\n",
       "    .dataframe thead th {\n",
       "        text-align: right;\n",
       "    }\n",
       "</style>\n",
       "<table border=\"1\" class=\"dataframe\">\n",
       "  <thead>\n",
       "    <tr style=\"text-align: right;\">\n",
       "      <th></th>\n",
       "      <th>Suburb</th>\n",
       "      <th>Address</th>\n",
       "      <th>Rooms</th>\n",
       "      <th>Type</th>\n",
       "      <th>Price</th>\n",
       "      <th>Method</th>\n",
       "      <th>SellerG</th>\n",
       "      <th>Date</th>\n",
       "      <th>Distance</th>\n",
       "      <th>Postcode</th>\n",
       "      <th>Bedroom2</th>\n",
       "      <th>Bathroom</th>\n",
       "      <th>Car</th>\n",
       "      <th>Landsize</th>\n",
       "      <th>BuildingArea</th>\n",
       "      <th>YearBuilt</th>\n",
       "      <th>CouncilArea</th>\n",
       "      <th>Lattitude</th>\n",
       "      <th>Longtitude</th>\n",
       "      <th>Regionname</th>\n",
       "      <th>Propertycount</th>\n",
       "    </tr>\n",
       "  </thead>\n",
       "  <tbody>\n",
       "    <tr>\n",
       "      <th>2</th>\n",
       "      <td>Abbotsford</td>\n",
       "      <td>25 Bloomburg St</td>\n",
       "      <td>2</td>\n",
       "      <td>h</td>\n",
       "      <td>1035000.0</td>\n",
       "      <td>S</td>\n",
       "      <td>Biggin</td>\n",
       "      <td>4/02/2016</td>\n",
       "      <td>2.5</td>\n",
       "      <td>3067.0</td>\n",
       "      <td>2.0</td>\n",
       "      <td>1.0</td>\n",
       "      <td>0.0</td>\n",
       "      <td>156.0</td>\n",
       "      <td>79.0</td>\n",
       "      <td>1900.0</td>\n",
       "      <td>Yarra City Council</td>\n",
       "      <td>-37.8079</td>\n",
       "      <td>144.9934</td>\n",
       "      <td>Northern Metropolitan</td>\n",
       "      <td>4019.0</td>\n",
       "    </tr>\n",
       "    <tr>\n",
       "      <th>4</th>\n",
       "      <td>Abbotsford</td>\n",
       "      <td>5 Charles St</td>\n",
       "      <td>3</td>\n",
       "      <td>h</td>\n",
       "      <td>1465000.0</td>\n",
       "      <td>SP</td>\n",
       "      <td>Biggin</td>\n",
       "      <td>4/03/2017</td>\n",
       "      <td>2.5</td>\n",
       "      <td>3067.0</td>\n",
       "      <td>3.0</td>\n",
       "      <td>2.0</td>\n",
       "      <td>0.0</td>\n",
       "      <td>134.0</td>\n",
       "      <td>150.0</td>\n",
       "      <td>1900.0</td>\n",
       "      <td>Yarra City Council</td>\n",
       "      <td>-37.8093</td>\n",
       "      <td>144.9944</td>\n",
       "      <td>Northern Metropolitan</td>\n",
       "      <td>4019.0</td>\n",
       "    </tr>\n",
       "    <tr>\n",
       "      <th>6</th>\n",
       "      <td>Abbotsford</td>\n",
       "      <td>55a Park St</td>\n",
       "      <td>4</td>\n",
       "      <td>h</td>\n",
       "      <td>1600000.0</td>\n",
       "      <td>VB</td>\n",
       "      <td>Nelson</td>\n",
       "      <td>4/06/2016</td>\n",
       "      <td>2.5</td>\n",
       "      <td>3067.0</td>\n",
       "      <td>3.0</td>\n",
       "      <td>1.0</td>\n",
       "      <td>2.0</td>\n",
       "      <td>120.0</td>\n",
       "      <td>142.0</td>\n",
       "      <td>2014.0</td>\n",
       "      <td>Yarra City Council</td>\n",
       "      <td>-37.8072</td>\n",
       "      <td>144.9941</td>\n",
       "      <td>Northern Metropolitan</td>\n",
       "      <td>4019.0</td>\n",
       "    </tr>\n",
       "  </tbody>\n",
       "</table>\n",
       "</div>"
      ],
      "text/plain": [
       "       Suburb          Address  Rooms Type      Price Method SellerG  \\\n",
       "2  Abbotsford  25 Bloomburg St      2    h  1035000.0      S  Biggin   \n",
       "4  Abbotsford     5 Charles St      3    h  1465000.0     SP  Biggin   \n",
       "6  Abbotsford      55a Park St      4    h  1600000.0     VB  Nelson   \n",
       "\n",
       "        Date  Distance  Postcode  Bedroom2  Bathroom  Car  Landsize  \\\n",
       "2  4/02/2016       2.5    3067.0       2.0       1.0  0.0     156.0   \n",
       "4  4/03/2017       2.5    3067.0       3.0       2.0  0.0     134.0   \n",
       "6  4/06/2016       2.5    3067.0       3.0       1.0  2.0     120.0   \n",
       "\n",
       "   BuildingArea  YearBuilt         CouncilArea  Lattitude  Longtitude  \\\n",
       "2          79.0     1900.0  Yarra City Council   -37.8079    144.9934   \n",
       "4         150.0     1900.0  Yarra City Council   -37.8093    144.9944   \n",
       "6         142.0     2014.0  Yarra City Council   -37.8072    144.9941   \n",
       "\n",
       "              Regionname  Propertycount  \n",
       "2  Northern Metropolitan         4019.0  \n",
       "4  Northern Metropolitan         4019.0  \n",
       "6  Northern Metropolitan         4019.0  "
      ]
     },
     "execution_count": 24,
     "metadata": {
      "tags": []
     },
     "output_type": "execute_result"
    }
   ],
   "source": [
    "df.head(3)"
   ]
  },
  {
   "cell_type": "code",
   "execution_count": null,
   "metadata": {
    "id": "IcLeqk3heYUU"
   },
   "outputs": [],
   "source": [
    "#melbourne_features = ['Rooms','Bathroom','Landsize','Lattitude','Longtitude','Distance','Car','BuildingArea','YearBuilt','Propertycount']"
   ]
  },
  {
   "cell_type": "code",
   "execution_count": null,
   "metadata": {
    "id": "wqhXvpVs1kwJ"
   },
   "outputs": [],
   "source": [
    "melbourne_features = ['Rooms','Bathroom','Landsize','Lattitude','Longtitude','Distance','Car','Landsize','BuildingArea','YearBuilt']"
   ]
  },
  {
   "cell_type": "code",
   "execution_count": null,
   "metadata": {
    "id": "MUWPvxgM1blY"
   },
   "outputs": [],
   "source": [
    "y= df[\"Price\"]"
   ]
  },
  {
   "cell_type": "code",
   "execution_count": null,
   "metadata": {
    "id": "Rpqqmg0e1blb"
   },
   "outputs": [],
   "source": [
    "X = df[melbourne_features]"
   ]
  },
  {
   "cell_type": "code",
   "execution_count": null,
   "metadata": {
    "colab": {
     "base_uri": "https://localhost:8080/",
     "height": 297
    },
    "executionInfo": {
     "elapsed": 216,
     "status": "ok",
     "timestamp": 1627421158417,
     "user": {
      "displayName": "Souleymane Sow",
      "photoUrl": "https://lh3.googleusercontent.com/a-/AOh14GiZWlXwgoaaEFr05Bcn0eq1s8bT_PdxHCydRoTXYw=s64",
      "userId": "17552321789150987035"
     },
     "user_tz": -120
    },
    "id": "ISjRW49N1blb",
    "outputId": "3edca27c-cafe-4f95-86ec-a5d1c9d51a09"
   },
   "outputs": [
    {
     "data": {
      "text/html": [
       "<div>\n",
       "<style scoped>\n",
       "    .dataframe tbody tr th:only-of-type {\n",
       "        vertical-align: middle;\n",
       "    }\n",
       "\n",
       "    .dataframe tbody tr th {\n",
       "        vertical-align: top;\n",
       "    }\n",
       "\n",
       "    .dataframe thead th {\n",
       "        text-align: right;\n",
       "    }\n",
       "</style>\n",
       "<table border=\"1\" class=\"dataframe\">\n",
       "  <thead>\n",
       "    <tr style=\"text-align: right;\">\n",
       "      <th></th>\n",
       "      <th>Rooms</th>\n",
       "      <th>Bathroom</th>\n",
       "      <th>Landsize</th>\n",
       "      <th>Lattitude</th>\n",
       "      <th>Longtitude</th>\n",
       "      <th>Distance</th>\n",
       "      <th>Car</th>\n",
       "      <th>Landsize</th>\n",
       "      <th>BuildingArea</th>\n",
       "      <th>YearBuilt</th>\n",
       "    </tr>\n",
       "  </thead>\n",
       "  <tbody>\n",
       "    <tr>\n",
       "      <th>count</th>\n",
       "      <td>8887.000000</td>\n",
       "      <td>8887.000000</td>\n",
       "      <td>8887.000000</td>\n",
       "      <td>8887.000000</td>\n",
       "      <td>8887.000000</td>\n",
       "      <td>8887.000000</td>\n",
       "      <td>8887.000000</td>\n",
       "      <td>8887.000000</td>\n",
       "      <td>8887.000000</td>\n",
       "      <td>8887.000000</td>\n",
       "    </tr>\n",
       "    <tr>\n",
       "      <th>mean</th>\n",
       "      <td>3.098909</td>\n",
       "      <td>1.646450</td>\n",
       "      <td>523.480365</td>\n",
       "      <td>-37.804501</td>\n",
       "      <td>144.991393</td>\n",
       "      <td>11.199887</td>\n",
       "      <td>1.692247</td>\n",
       "      <td>523.480365</td>\n",
       "      <td>149.309477</td>\n",
       "      <td>1965.753348</td>\n",
       "    </tr>\n",
       "    <tr>\n",
       "      <th>std</th>\n",
       "      <td>0.963786</td>\n",
       "      <td>0.721611</td>\n",
       "      <td>1061.324228</td>\n",
       "      <td>0.090549</td>\n",
       "      <td>0.118919</td>\n",
       "      <td>6.813402</td>\n",
       "      <td>0.975464</td>\n",
       "      <td>1061.324228</td>\n",
       "      <td>87.925580</td>\n",
       "      <td>37.040876</td>\n",
       "    </tr>\n",
       "    <tr>\n",
       "      <th>min</th>\n",
       "      <td>1.000000</td>\n",
       "      <td>1.000000</td>\n",
       "      <td>0.000000</td>\n",
       "      <td>-38.174360</td>\n",
       "      <td>144.423790</td>\n",
       "      <td>0.000000</td>\n",
       "      <td>0.000000</td>\n",
       "      <td>0.000000</td>\n",
       "      <td>0.000000</td>\n",
       "      <td>1196.000000</td>\n",
       "    </tr>\n",
       "    <tr>\n",
       "      <th>25%</th>\n",
       "      <td>2.000000</td>\n",
       "      <td>1.000000</td>\n",
       "      <td>212.000000</td>\n",
       "      <td>-37.858560</td>\n",
       "      <td>144.920000</td>\n",
       "      <td>6.400000</td>\n",
       "      <td>1.000000</td>\n",
       "      <td>212.000000</td>\n",
       "      <td>100.000000</td>\n",
       "      <td>1945.000000</td>\n",
       "    </tr>\n",
       "    <tr>\n",
       "      <th>50%</th>\n",
       "      <td>3.000000</td>\n",
       "      <td>2.000000</td>\n",
       "      <td>478.000000</td>\n",
       "      <td>-37.798700</td>\n",
       "      <td>144.998500</td>\n",
       "      <td>10.200000</td>\n",
       "      <td>2.000000</td>\n",
       "      <td>478.000000</td>\n",
       "      <td>132.000000</td>\n",
       "      <td>1970.000000</td>\n",
       "    </tr>\n",
       "    <tr>\n",
       "      <th>75%</th>\n",
       "      <td>4.000000</td>\n",
       "      <td>2.000000</td>\n",
       "      <td>652.000000</td>\n",
       "      <td>-37.748945</td>\n",
       "      <td>145.064560</td>\n",
       "      <td>13.900000</td>\n",
       "      <td>2.000000</td>\n",
       "      <td>652.000000</td>\n",
       "      <td>180.000000</td>\n",
       "      <td>2000.000000</td>\n",
       "    </tr>\n",
       "    <tr>\n",
       "      <th>max</th>\n",
       "      <td>12.000000</td>\n",
       "      <td>9.000000</td>\n",
       "      <td>42800.000000</td>\n",
       "      <td>-37.407200</td>\n",
       "      <td>145.526350</td>\n",
       "      <td>47.400000</td>\n",
       "      <td>10.000000</td>\n",
       "      <td>42800.000000</td>\n",
       "      <td>3112.000000</td>\n",
       "      <td>2019.000000</td>\n",
       "    </tr>\n",
       "  </tbody>\n",
       "</table>\n",
       "</div>"
      ],
      "text/plain": [
       "             Rooms     Bathroom      Landsize    Lattitude   Longtitude  \\\n",
       "count  8887.000000  8887.000000   8887.000000  8887.000000  8887.000000   \n",
       "mean      3.098909     1.646450    523.480365   -37.804501   144.991393   \n",
       "std       0.963786     0.721611   1061.324228     0.090549     0.118919   \n",
       "min       1.000000     1.000000      0.000000   -38.174360   144.423790   \n",
       "25%       2.000000     1.000000    212.000000   -37.858560   144.920000   \n",
       "50%       3.000000     2.000000    478.000000   -37.798700   144.998500   \n",
       "75%       4.000000     2.000000    652.000000   -37.748945   145.064560   \n",
       "max      12.000000     9.000000  42800.000000   -37.407200   145.526350   \n",
       "\n",
       "          Distance          Car      Landsize  BuildingArea    YearBuilt  \n",
       "count  8887.000000  8887.000000   8887.000000   8887.000000  8887.000000  \n",
       "mean     11.199887     1.692247    523.480365    149.309477  1965.753348  \n",
       "std       6.813402     0.975464   1061.324228     87.925580    37.040876  \n",
       "min       0.000000     0.000000      0.000000      0.000000  1196.000000  \n",
       "25%       6.400000     1.000000    212.000000    100.000000  1945.000000  \n",
       "50%      10.200000     2.000000    478.000000    132.000000  1970.000000  \n",
       "75%      13.900000     2.000000    652.000000    180.000000  2000.000000  \n",
       "max      47.400000    10.000000  42800.000000   3112.000000  2019.000000  "
      ]
     },
     "execution_count": 58,
     "metadata": {
      "tags": []
     },
     "output_type": "execute_result"
    }
   ],
   "source": [
    "X.describe()"
   ]
  },
  {
   "cell_type": "code",
   "execution_count": null,
   "metadata": {
    "colab": {
     "base_uri": "https://localhost:8080/",
     "height": 142
    },
    "executionInfo": {
     "elapsed": 416,
     "status": "ok",
     "timestamp": 1627421163838,
     "user": {
      "displayName": "Souleymane Sow",
      "photoUrl": "https://lh3.googleusercontent.com/a-/AOh14GiZWlXwgoaaEFr05Bcn0eq1s8bT_PdxHCydRoTXYw=s64",
      "userId": "17552321789150987035"
     },
     "user_tz": -120
    },
    "id": "VF2cUDUM1blc",
    "outputId": "14996995-f99d-4549-84dd-2af2ef9b54f1"
   },
   "outputs": [
    {
     "data": {
      "text/html": [
       "<div>\n",
       "<style scoped>\n",
       "    .dataframe tbody tr th:only-of-type {\n",
       "        vertical-align: middle;\n",
       "    }\n",
       "\n",
       "    .dataframe tbody tr th {\n",
       "        vertical-align: top;\n",
       "    }\n",
       "\n",
       "    .dataframe thead th {\n",
       "        text-align: right;\n",
       "    }\n",
       "</style>\n",
       "<table border=\"1\" class=\"dataframe\">\n",
       "  <thead>\n",
       "    <tr style=\"text-align: right;\">\n",
       "      <th></th>\n",
       "      <th>Rooms</th>\n",
       "      <th>Bathroom</th>\n",
       "      <th>Landsize</th>\n",
       "      <th>Lattitude</th>\n",
       "      <th>Longtitude</th>\n",
       "      <th>Distance</th>\n",
       "      <th>Car</th>\n",
       "      <th>Landsize</th>\n",
       "      <th>BuildingArea</th>\n",
       "      <th>YearBuilt</th>\n",
       "    </tr>\n",
       "  </thead>\n",
       "  <tbody>\n",
       "    <tr>\n",
       "      <th>2</th>\n",
       "      <td>2</td>\n",
       "      <td>1.0</td>\n",
       "      <td>156.0</td>\n",
       "      <td>-37.8079</td>\n",
       "      <td>144.9934</td>\n",
       "      <td>2.5</td>\n",
       "      <td>0.0</td>\n",
       "      <td>156.0</td>\n",
       "      <td>79.0</td>\n",
       "      <td>1900.0</td>\n",
       "    </tr>\n",
       "    <tr>\n",
       "      <th>4</th>\n",
       "      <td>3</td>\n",
       "      <td>2.0</td>\n",
       "      <td>134.0</td>\n",
       "      <td>-37.8093</td>\n",
       "      <td>144.9944</td>\n",
       "      <td>2.5</td>\n",
       "      <td>0.0</td>\n",
       "      <td>134.0</td>\n",
       "      <td>150.0</td>\n",
       "      <td>1900.0</td>\n",
       "    </tr>\n",
       "    <tr>\n",
       "      <th>6</th>\n",
       "      <td>4</td>\n",
       "      <td>1.0</td>\n",
       "      <td>120.0</td>\n",
       "      <td>-37.8072</td>\n",
       "      <td>144.9941</td>\n",
       "      <td>2.5</td>\n",
       "      <td>2.0</td>\n",
       "      <td>120.0</td>\n",
       "      <td>142.0</td>\n",
       "      <td>2014.0</td>\n",
       "    </tr>\n",
       "  </tbody>\n",
       "</table>\n",
       "</div>"
      ],
      "text/plain": [
       "   Rooms  Bathroom  Landsize  Lattitude  Longtitude  Distance  Car  Landsize  \\\n",
       "2      2       1.0     156.0   -37.8079    144.9934       2.5  0.0     156.0   \n",
       "4      3       2.0     134.0   -37.8093    144.9944       2.5  0.0     134.0   \n",
       "6      4       1.0     120.0   -37.8072    144.9941       2.5  2.0     120.0   \n",
       "\n",
       "   BuildingArea  YearBuilt  \n",
       "2          79.0     1900.0  \n",
       "4         150.0     1900.0  \n",
       "6         142.0     2014.0  "
      ]
     },
     "execution_count": 59,
     "metadata": {
      "tags": []
     },
     "output_type": "execute_result"
    }
   ],
   "source": [
    "X.head(3)"
   ]
  },
  {
   "cell_type": "code",
   "execution_count": null,
   "metadata": {
    "colab": {
     "base_uri": "https://localhost:8080/",
     "height": 204
    },
    "executionInfo": {
     "elapsed": 20,
     "status": "ok",
     "timestamp": 1627421164162,
     "user": {
      "displayName": "Souleymane Sow",
      "photoUrl": "https://lh3.googleusercontent.com/a-/AOh14GiZWlXwgoaaEFr05Bcn0eq1s8bT_PdxHCydRoTXYw=s64",
      "userId": "17552321789150987035"
     },
     "user_tz": -120
    },
    "id": "p5Q1Ohj71blf",
    "outputId": "18eed1f5-152c-421f-e76c-c43118c02f4c"
   },
   "outputs": [
    {
     "data": {
      "text/html": [
       "<div>\n",
       "<style scoped>\n",
       "    .dataframe tbody tr th:only-of-type {\n",
       "        vertical-align: middle;\n",
       "    }\n",
       "\n",
       "    .dataframe tbody tr th {\n",
       "        vertical-align: top;\n",
       "    }\n",
       "\n",
       "    .dataframe thead th {\n",
       "        text-align: right;\n",
       "    }\n",
       "</style>\n",
       "<table border=\"1\" class=\"dataframe\">\n",
       "  <thead>\n",
       "    <tr style=\"text-align: right;\">\n",
       "      <th></th>\n",
       "      <th>Rooms</th>\n",
       "      <th>Bathroom</th>\n",
       "      <th>Landsize</th>\n",
       "      <th>Lattitude</th>\n",
       "      <th>Longtitude</th>\n",
       "      <th>Distance</th>\n",
       "      <th>Car</th>\n",
       "      <th>Landsize</th>\n",
       "      <th>BuildingArea</th>\n",
       "      <th>YearBuilt</th>\n",
       "    </tr>\n",
       "  </thead>\n",
       "  <tbody>\n",
       "    <tr>\n",
       "      <th>34847</th>\n",
       "      <td>3</td>\n",
       "      <td>2.0</td>\n",
       "      <td>383.0</td>\n",
       "      <td>-37.61940</td>\n",
       "      <td>145.03951</td>\n",
       "      <td>25.5</td>\n",
       "      <td>2.0</td>\n",
       "      <td>383.0</td>\n",
       "      <td>118.0</td>\n",
       "      <td>2016.0</td>\n",
       "    </tr>\n",
       "    <tr>\n",
       "      <th>34849</th>\n",
       "      <td>3</td>\n",
       "      <td>2.0</td>\n",
       "      <td>404.0</td>\n",
       "      <td>-37.61031</td>\n",
       "      <td>145.03393</td>\n",
       "      <td>25.5</td>\n",
       "      <td>2.0</td>\n",
       "      <td>404.0</td>\n",
       "      <td>158.0</td>\n",
       "      <td>2012.0</td>\n",
       "    </tr>\n",
       "    <tr>\n",
       "      <th>34853</th>\n",
       "      <td>2</td>\n",
       "      <td>2.0</td>\n",
       "      <td>98.0</td>\n",
       "      <td>-37.81551</td>\n",
       "      <td>144.88826</td>\n",
       "      <td>6.3</td>\n",
       "      <td>1.0</td>\n",
       "      <td>98.0</td>\n",
       "      <td>104.0</td>\n",
       "      <td>2018.0</td>\n",
       "    </tr>\n",
       "    <tr>\n",
       "      <th>34854</th>\n",
       "      <td>2</td>\n",
       "      <td>1.0</td>\n",
       "      <td>220.0</td>\n",
       "      <td>-37.82286</td>\n",
       "      <td>144.87856</td>\n",
       "      <td>6.3</td>\n",
       "      <td>2.0</td>\n",
       "      <td>220.0</td>\n",
       "      <td>120.0</td>\n",
       "      <td>2000.0</td>\n",
       "    </tr>\n",
       "    <tr>\n",
       "      <th>34856</th>\n",
       "      <td>2</td>\n",
       "      <td>1.0</td>\n",
       "      <td>250.0</td>\n",
       "      <td>-37.81810</td>\n",
       "      <td>144.89351</td>\n",
       "      <td>6.3</td>\n",
       "      <td>0.0</td>\n",
       "      <td>250.0</td>\n",
       "      <td>103.0</td>\n",
       "      <td>1930.0</td>\n",
       "    </tr>\n",
       "  </tbody>\n",
       "</table>\n",
       "</div>"
      ],
      "text/plain": [
       "       Rooms  Bathroom  Landsize  Lattitude  Longtitude  Distance  Car  \\\n",
       "34847      3       2.0     383.0  -37.61940   145.03951      25.5  2.0   \n",
       "34849      3       2.0     404.0  -37.61031   145.03393      25.5  2.0   \n",
       "34853      2       2.0      98.0  -37.81551   144.88826       6.3  1.0   \n",
       "34854      2       1.0     220.0  -37.82286   144.87856       6.3  2.0   \n",
       "34856      2       1.0     250.0  -37.81810   144.89351       6.3  0.0   \n",
       "\n",
       "       Landsize  BuildingArea  YearBuilt  \n",
       "34847     383.0         118.0     2016.0  \n",
       "34849     404.0         158.0     2012.0  \n",
       "34853      98.0         104.0     2018.0  \n",
       "34854     220.0         120.0     2000.0  \n",
       "34856     250.0         103.0     1930.0  "
      ]
     },
     "execution_count": 60,
     "metadata": {
      "tags": []
     },
     "output_type": "execute_result"
    }
   ],
   "source": [
    "X.tail()"
   ]
  },
  {
   "cell_type": "code",
   "execution_count": null,
   "metadata": {
    "colab": {
     "base_uri": "https://localhost:8080/"
    },
    "executionInfo": {
     "elapsed": 27,
     "status": "ok",
     "timestamp": 1627421165058,
     "user": {
      "displayName": "Souleymane Sow",
      "photoUrl": "https://lh3.googleusercontent.com/a-/AOh14GiZWlXwgoaaEFr05Bcn0eq1s8bT_PdxHCydRoTXYw=s64",
      "userId": "17552321789150987035"
     },
     "user_tz": -120
    },
    "id": "b3FxUgDa1blg",
    "outputId": "f18f8d4d-66c6-416a-aa52-f37ad5a5524f"
   },
   "outputs": [
    {
     "data": {
      "text/plain": [
       "DecisionTreeRegressor(ccp_alpha=0.0, criterion='mse', max_depth=None,\n",
       "                      max_features=None, max_leaf_nodes=None,\n",
       "                      min_impurity_decrease=0.0, min_impurity_split=None,\n",
       "                      min_samples_leaf=1, min_samples_split=2,\n",
       "                      min_weight_fraction_leaf=0.0, presort='deprecated',\n",
       "                      random_state=1, splitter='best')"
      ]
     },
     "execution_count": 61,
     "metadata": {
      "tags": []
     },
     "output_type": "execute_result"
    }
   ],
   "source": [
    "from sklearn.tree import DecisionTreeRegressor\n",
    "melbourne_model= DecisionTreeRegressor(random_state=1)\n",
    "melbourne_model.fit(X,y)"
   ]
  },
  {
   "cell_type": "code",
   "execution_count": null,
   "metadata": {
    "colab": {
     "base_uri": "https://localhost:8080/"
    },
    "executionInfo": {
     "elapsed": 15,
     "status": "ok",
     "timestamp": 1627421165059,
     "user": {
      "displayName": "Souleymane Sow",
      "photoUrl": "https://lh3.googleusercontent.com/a-/AOh14GiZWlXwgoaaEFr05Bcn0eq1s8bT_PdxHCydRoTXYw=s64",
      "userId": "17552321789150987035"
     },
     "user_tz": -120
    },
    "id": "_Lj2sw511blh",
    "outputId": "d4ca7d65-f4bb-4559-ef8e-f281f71e0e83"
   },
   "outputs": [
    {
     "name": "stdout",
     "output_type": "stream",
     "text": [
      "Making predictions for the following 5 houses:\n",
      "    Rooms  Bathroom  Landsize  Lattitude  Longtitude  Distance  Car  Landsize  \\\n",
      "2       2       1.0     156.0   -37.8079    144.9934       2.5  0.0     156.0   \n",
      "4       3       2.0     134.0   -37.8093    144.9944       2.5  0.0     134.0   \n",
      "6       4       1.0     120.0   -37.8072    144.9941       2.5  2.0     120.0   \n",
      "11      3       2.0     245.0   -37.8024    144.9993       2.5  0.0     245.0   \n",
      "14      2       1.0     256.0   -37.8060    144.9954       2.5  2.0     256.0   \n",
      "\n",
      "    BuildingArea  YearBuilt  \n",
      "2           79.0     1900.0  \n",
      "4          150.0     1900.0  \n",
      "6          142.0     2014.0  \n",
      "11         210.0     1910.0  \n",
      "14         107.0     1890.0  \n",
      "The predictions are:\n",
      "[1035000. 1465000. 1600000. 1876000. 1636000.]\n"
     ]
    }
   ],
   "source": [
    "print(\"Making predictions for the following 5 houses:\")\n",
    "print(X.head())\n",
    "print(\"The predictions are:\")\n",
    "print(melbourne_model.predict(X.head()))"
   ]
  },
  {
   "cell_type": "code",
   "execution_count": null,
   "metadata": {
    "colab": {
     "base_uri": "https://localhost:8080/"
    },
    "executionInfo": {
     "elapsed": 8,
     "status": "ok",
     "timestamp": 1627421165280,
     "user": {
      "displayName": "Souleymane Sow",
      "photoUrl": "https://lh3.googleusercontent.com/a-/AOh14GiZWlXwgoaaEFr05Bcn0eq1s8bT_PdxHCydRoTXYw=s64",
      "userId": "17552321789150987035"
     },
     "user_tz": -120
    },
    "id": "beZob_LvVrb7",
    "outputId": "f963ebeb-3e12-4693-9b1d-5ff6d04c130f"
   },
   "outputs": [
    {
     "data": {
      "text/plain": [
       "2     1035000.0\n",
       "4     1465000.0\n",
       "6     1600000.0\n",
       "11    1876000.0\n",
       "14    1636000.0\n",
       "Name: Price, dtype: float64"
      ]
     },
     "execution_count": 63,
     "metadata": {
      "tags": []
     },
     "output_type": "execute_result"
    }
   ],
   "source": [
    "y[:5]"
   ]
  },
  {
   "cell_type": "markdown",
   "metadata": {
    "id": "IgWSYB9m1bli"
   },
   "source": [
    "# Mean Absolute Error\n",
    "<p>Mean Absolute Error measures the average magnitude of the errors in a set of predictions ,without considering their direction.It’s the average over the test sample of the absolute differences between prediction and actual observation where all individual differences have equal weight.</p>"
   ]
  },
  {
   "cell_type": "code",
   "execution_count": null,
   "metadata": {
    "colab": {
     "base_uri": "https://localhost:8080/",
     "height": 505
    },
    "executionInfo": {
     "elapsed": 23,
     "status": "ok",
     "timestamp": 1627421166209,
     "user": {
      "displayName": "Souleymane Sow",
      "photoUrl": "https://lh3.googleusercontent.com/a-/AOh14GiZWlXwgoaaEFr05Bcn0eq1s8bT_PdxHCydRoTXYw=s64",
      "userId": "17552321789150987035"
     },
     "user_tz": -120
    },
    "id": "r5NGLkJkLZXj",
    "outputId": "e328f51f-49f1-420f-879c-64c2043abacc"
   },
   "outputs": [
    {
     "data": {
      "text/html": [
       "<iframe src=\"https://drive.google.com/file/d/1dfqBT6ewhS1ltrYQ7wOvPgRXhtTKZUSg/preview\" width=\"640\" height=\"480\" allow=\"autoplay\">\n",
       "</iframe>"
      ],
      "text/plain": [
       "<IPython.core.display.HTML object>"
      ]
     },
     "metadata": {
      "tags": []
     },
     "output_type": "display_data"
    }
   ],
   "source": [
    "%%html\n",
    "<iframe src=\"https://drive.google.com/file/d/1dfqBT6ewhS1ltrYQ7wOvPgRXhtTKZUSg/preview\" width=\"640\" height=\"480\" allow=\"autoplay\">\n",
    "</iframe>"
   ]
  },
  {
   "cell_type": "code",
   "execution_count": null,
   "metadata": {
    "colab": {
     "base_uri": "https://localhost:8080/"
    },
    "executionInfo": {
     "elapsed": 12,
     "status": "ok",
     "timestamp": 1627421169936,
     "user": {
      "displayName": "Souleymane Sow",
      "photoUrl": "https://lh3.googleusercontent.com/a-/AOh14GiZWlXwgoaaEFr05Bcn0eq1s8bT_PdxHCydRoTXYw=s64",
      "userId": "17552321789150987035"
     },
     "user_tz": -120
    },
    "id": "F2HNrGEd1blj",
    "outputId": "50b178f7-7fe5-42dc-b6d0-132467505f1e"
   },
   "outputs": [
    {
     "data": {
      "text/plain": [
       "325.13784179138065"
      ]
     },
     "execution_count": 65,
     "metadata": {
      "tags": []
     },
     "output_type": "execute_result"
    }
   ],
   "source": [
    "from sklearn.metrics import mean_absolute_error\n",
    "\n",
    "predicted_home_prices= melbourne_model.predict(X)\n",
    "mean_absolute_error(y,predicted_home_prices)"
   ]
  },
  {
   "cell_type": "code",
   "execution_count": null,
   "metadata": {
    "colab": {
     "base_uri": "https://localhost:8080/"
    },
    "executionInfo": {
     "elapsed": 210,
     "status": "ok",
     "timestamp": 1627421174823,
     "user": {
      "displayName": "Souleymane Sow",
      "photoUrl": "https://lh3.googleusercontent.com/a-/AOh14GiZWlXwgoaaEFr05Bcn0eq1s8bT_PdxHCydRoTXYw=s64",
      "userId": "17552321789150987035"
     },
     "user_tz": -120
    },
    "id": "sTxzrDlP1blk",
    "outputId": "0ddfcd3c-c31b-4b9b-c04b-66c1d54e01d7"
   },
   "outputs": [
    {
     "name": "stdout",
     "output_type": "stream",
     "text": [
      "247114.99362579678\n",
      "0.594856773685084\n"
     ]
    }
   ],
   "source": [
    "from sklearn.model_selection import train_test_split\n",
    "\n",
    "train_X,val_X,train_y,val_y=train_test_split(X,y,random_state=0,test_size=0.3)\n",
    "\n",
    "melbourne_model= DecisionTreeRegressor()\n",
    "melbourne_model.fit(train_X,train_y)\n",
    "val_predictions= melbourne_model.predict(val_X)\n",
    "print(mean_absolute_error(val_y, val_predictions))\n",
    "score=  melbourne_model.score(val_X,val_y)\n",
    "print(score)"
   ]
  },
  {
   "cell_type": "markdown",
   "metadata": {
    "id": "nBDHxo8y1blm"
   },
   "source": [
    "### from sklearn.metrics import mean_absolute_error\n"
   ]
  },
  {
   "cell_type": "code",
   "execution_count": null,
   "metadata": {
    "id": "kvGxuGed1bln"
   },
   "outputs": [],
   "source": [
    "from sklearn.tree import DecisionTreeRegressor\n",
    "\n",
    "def get_mae(max_leaf_nodes,train_X,val_X,train_y,val_y):\n",
    "    model = DecisionTreeRegressor(max_leaf_nodes=max_leaf_nodes,random_state=0)\n",
    "    model.fit(train_X,train_y)\n",
    "    preds_val= model.predict(val_X)\n",
    "    mae= mean_absolute_error(val_y,preds_val)\n",
    "    return(mae)"
   ]
  },
  {
   "cell_type": "code",
   "execution_count": null,
   "metadata": {
    "colab": {
     "base_uri": "https://localhost:8080/"
    },
    "executionInfo": {
     "elapsed": 10,
     "status": "ok",
     "timestamp": 1627421183690,
     "user": {
      "displayName": "Souleymane Sow",
      "photoUrl": "https://lh3.googleusercontent.com/a-/AOh14GiZWlXwgoaaEFr05Bcn0eq1s8bT_PdxHCydRoTXYw=s64",
      "userId": "17552321789150987035"
     },
     "user_tz": -120
    },
    "id": "IwN-4h731blo",
    "outputId": "aa0fc449-0681-421c-8345-97a9fa610086"
   },
   "outputs": [
    {
     "name": "stdout",
     "output_type": "stream",
     "text": [
      "Max leaf nodes: 5  \t\t Mean Absolute Error:  358055\n",
      "Max leaf nodes: 50  \t\t Mean Absolute Error:  249865\n",
      "Max leaf nodes: 500  \t\t Mean Absolute Error:  237374\n",
      "Max leaf nodes: 5000  \t\t Mean Absolute Error:  251377\n"
     ]
    }
   ],
   "source": [
    "for max_leaf_nodes in [5, 50, 500, 5000]:\n",
    "    my_mae = get_mae(max_leaf_nodes, train_X, val_X, train_y, val_y)\n",
    "    print(\"Max leaf nodes: %d  \\t\\t Mean Absolute Error:  %d\" %(max_leaf_nodes, my_mae))"
   ]
  },
  {
   "cell_type": "markdown",
   "metadata": {
    "id": "lqKco7-S1blp"
   },
   "source": [
    "   <a href=\"https://medium.com/greyatom/decision-trees-a-simple-way-to-visualize-a-decision-dc506a403aeb\">Decision Trees Further Reading</a>"
   ]
  },
  {
   "cell_type": "markdown",
   "metadata": {
    "id": "yRtEziuj1blp"
   },
   "source": [
    "# Max_depth"
   ]
  },
  {
   "cell_type": "markdown",
   "metadata": {
    "id": "VuLjzzcN1blr"
   },
   "source": [
    "<p>The first parameter to tune is max_depth. This indicates how deep the tree can be. The deeper the tree, the more splits it has and it captures more information about the data. </p>"
   ]
  },
  {
   "cell_type": "code",
   "execution_count": null,
   "metadata": {
    "id": "T8N0Anvp1blr"
   },
   "outputs": [],
   "source": [
    "def get_mae(max_depth,train_X,val_X,train_y,val_y):\n",
    "    model= DecisionTreeRegressor(max_depth=max_depth,random_state=0)\n",
    "    model.fit(train_X,train_y)\n",
    "    preds_val= model.predict(val_X)\n",
    "    mae=mean_absolute_error(val_y,preds_val)\n",
    "    return(mae)"
   ]
  },
  {
   "cell_type": "code",
   "execution_count": null,
   "metadata": {
    "colab": {
     "base_uri": "https://localhost:8080/"
    },
    "executionInfo": {
     "elapsed": 8,
     "status": "ok",
     "timestamp": 1627421185318,
     "user": {
      "displayName": "Souleymane Sow",
      "photoUrl": "https://lh3.googleusercontent.com/a-/AOh14GiZWlXwgoaaEFr05Bcn0eq1s8bT_PdxHCydRoTXYw=s64",
      "userId": "17552321789150987035"
     },
     "user_tz": -120
    },
    "id": "1kk0KgH31bls",
    "outputId": "7a3fd61c-6c50-48bf-a336-e26c94aca64c"
   },
   "outputs": [
    {
     "name": "stdout",
     "output_type": "stream",
     "text": [
      "Max depth: 5  \t\t Mean Absolute Error:  267644\n",
      "Max depth: 10  \t\t Mean Absolute Error:  223508\n",
      "Max depth: 20  \t\t Mean Absolute Error:  248883\n",
      "Max depth: 30  \t\t Mean Absolute Error:  243167\n",
      "Max depth: 60  \t\t Mean Absolute Error:  243167\n"
     ]
    }
   ],
   "source": [
    "for max_depth in [5,10,20,30,60]:\n",
    "    my_mae=get_mae(max_depth,train_X,val_X,train_y,val_y)\n",
    "    print(\"Max depth: %d  \\t\\t Mean Absolute Error:  %d\" %(max_depth, my_mae))"
   ]
  },
  {
   "cell_type": "markdown",
   "metadata": {
    "id": "oxj8xoUL1blt"
   },
   "source": [
    "# Min Samples Split"
   ]
  },
  {
   "cell_type": "code",
   "execution_count": null,
   "metadata": {
    "id": "gVXUWIhM1blw"
   },
   "outputs": [],
   "source": [
    "def get_mae(min_samples_split,train_X,val_X,train_y,val_y):\n",
    "    model = DecisionTreeRegressor(min_samples_split=min_samples_split,random_state=0)\n",
    "    model.fit(train_X,train_y)\n",
    "    preds_val= model.predict(val_X)\n",
    "    mae = mean_absolute_error(val_y,preds_val)\n",
    "    return(mae)"
   ]
  },
  {
   "cell_type": "markdown",
   "metadata": {
    "id": "wO6TFGyE1blw"
   },
   "source": [
    "<p>min_samples_split represents the minimum number of samples required to split an internal node. This can vary between considering at least one sample at each node to considering all of the samples at each node. When we increase this parameter, the tree becomes more constrained as it has to consider more samples at each node. Here we will vary the parameter from 10% to 100% of the samples</p>"
   ]
  },
  {
   "cell_type": "code",
   "execution_count": null,
   "metadata": {
    "colab": {
     "base_uri": "https://localhost:8080/"
    },
    "executionInfo": {
     "elapsed": 503,
     "status": "ok",
     "timestamp": 1627421186132,
     "user": {
      "displayName": "Souleymane Sow",
      "photoUrl": "https://lh3.googleusercontent.com/a-/AOh14GiZWlXwgoaaEFr05Bcn0eq1s8bT_PdxHCydRoTXYw=s64",
      "userId": "17552321789150987035"
     },
     "user_tz": -120
    },
    "id": "l-1jVOxG1blx",
    "outputId": "159df4c9-66fd-46f2-dbd4-93ed1f2be164"
   },
   "outputs": [
    {
     "name": "stdout",
     "output_type": "stream",
     "text": [
      "Mean samples split: 2  \t\t Mean Absolute Error:  243167\n",
      "Mean samples split: 3  \t\t Mean Absolute Error:  250202\n",
      "Mean samples split: 4  \t\t Mean Absolute Error:  243990\n",
      "Mean samples split: 5  \t\t Mean Absolute Error:  243588\n",
      "Mean samples split: 6  \t\t Mean Absolute Error:  238530\n",
      "Mean samples split: 7  \t\t Mean Absolute Error:  236373\n",
      "Mean samples split: 8  \t\t Mean Absolute Error:  235537\n",
      "Mean samples split: 9  \t\t Mean Absolute Error:  233032\n",
      "Mean samples split: 10  \t\t Mean Absolute Error:  231776\n",
      "Mean samples split: 20  \t\t Mean Absolute Error:  223137\n",
      "Mean samples split: 30  \t\t Mean Absolute Error:  221671\n"
     ]
    }
   ],
   "source": [
    "for min_samples_split in [2,3,4,5,6,7,8,9,10,20,30]:\n",
    "    my_mae=get_mae(min_samples_split,train_X,val_X,train_y,val_y)\n",
    "    print(\"Mean samples split: %d  \\t\\t Mean Absolute Error:  %d\" %(min_samples_split, my_mae))"
   ]
  },
  {
   "cell_type": "markdown",
   "metadata": {
    "id": "saCnHbrl1bly"
   },
   "source": [
    "# Min Samples Leaf"
   ]
  },
  {
   "cell_type": "code",
   "execution_count": null,
   "metadata": {
    "id": "DlTNoFwT1bl0"
   },
   "outputs": [],
   "source": [
    "def get_mae(min_samples_leaf,train_X,val_X,train_y,val_y):\n",
    "    model= DecisionTreeRegressor(min_samples_leaf=min_samples_leaf,random_state=0)\n",
    "    model.fit(train_X,train_y)\n",
    "    preds_val= model.predict(val_X)\n",
    "    mae= mean_absolute_error(val_y,preds_val)\n",
    "    return(mae)"
   ]
  },
  {
   "cell_type": "markdown",
   "metadata": {
    "id": "lfJ3XNbw1bl1"
   },
   "source": [
    "<p>min_samples_leaf is The minimum number of samples required to be at a leaf node. This parameter is similar to min_samples_splits, however, this describe the minimum number of samples of samples at the leafs, the base of the tree.</p>"
   ]
  },
  {
   "cell_type": "code",
   "execution_count": null,
   "metadata": {
    "colab": {
     "base_uri": "https://localhost:8080/"
    },
    "executionInfo": {
     "elapsed": 379,
     "status": "ok",
     "timestamp": 1627421187121,
     "user": {
      "displayName": "Souleymane Sow",
      "photoUrl": "https://lh3.googleusercontent.com/a-/AOh14GiZWlXwgoaaEFr05Bcn0eq1s8bT_PdxHCydRoTXYw=s64",
      "userId": "17552321789150987035"
     },
     "user_tz": -120
    },
    "id": "g9D0p7mq1bl3",
    "outputId": "05ebf12d-70c2-4cd8-a6d9-9f8c5d4e7faf"
   },
   "outputs": [
    {
     "name": "stdout",
     "output_type": "stream",
     "text": [
      "Mean samples leaf: 5  \t\t Mean Absolute Error:  218183\n",
      "Mean samples leaf: 10  \t\t Mean Absolute Error:  214903\n",
      "Mean samples leaf: 15  \t\t Mean Absolute Error:  218721\n",
      "Mean samples leaf: 20  \t\t Mean Absolute Error:  220030\n",
      "Mean samples leaf: 30  \t\t Mean Absolute Error:  221534\n",
      "Mean samples leaf: 40  \t\t Mean Absolute Error:  226886\n",
      "Mean samples leaf: 50  \t\t Mean Absolute Error:  233272\n",
      "Mean samples leaf: 60  \t\t Mean Absolute Error:  236791\n",
      "Mean samples leaf: 70  \t\t Mean Absolute Error:  240409\n"
     ]
    }
   ],
   "source": [
    "for min_samples_leaf in [5,10,15,20,30,40,50,60,70]:\n",
    "    my_mae=get_mae(min_samples_leaf,train_X,val_X,train_y,val_y)\n",
    "    print(\"Mean samples leaf: %d  \\t\\t Mean Absolute Error:  %d\" %(min_samples_leaf, my_mae))"
   ]
  },
  {
   "cell_type": "code",
   "execution_count": null,
   "metadata": {
    "id": "Vepeihcv1bl4"
   },
   "outputs": [],
   "source": [
    "def evaluate(model, test_features, test_labels):\n",
    "    predictions = model.predict(test_features)\n",
    "    errors = abs(predictions - test_labels)\n",
    "    mape = 100 * np.mean(errors / test_labels)\n",
    "    accuracy = 100 - mape\n",
    "    print('Model Performance')\n",
    "    print('Average Error: {:0.4f} degrees.'.format(np.mean(errors)))\n",
    "    print('Accuracy = {:0.2f}%.'.format(accuracy))\n",
    "    \n",
    "    return accuracy"
   ]
  },
  {
   "cell_type": "markdown",
   "metadata": {
    "id": "yqeP66Or1bl5"
   },
   "source": [
    "# Combined"
   ]
  },
  {
   "cell_type": "code",
   "execution_count": null,
   "metadata": {
    "colab": {
     "base_uri": "https://localhost:8080/"
    },
    "executionInfo": {
     "elapsed": 9,
     "status": "ok",
     "timestamp": 1627421191098,
     "user": {
      "displayName": "Souleymane Sow",
      "photoUrl": "https://lh3.googleusercontent.com/a-/AOh14GiZWlXwgoaaEFr05Bcn0eq1s8bT_PdxHCydRoTXYw=s64",
      "userId": "17552321789150987035"
     },
     "user_tz": -120
    },
    "id": "z4R9sxF81bl6",
    "outputId": "a777e3f3-43f3-4c01-970c-ce07eb599596"
   },
   "outputs": [
    {
     "name": "stdout",
     "output_type": "stream",
     "text": [
      "Model Performance\n",
      "Average Error: 213902.9000 degrees.\n",
      "Accuracy = 81.65%.\n"
     ]
    }
   ],
   "source": [
    "dt= DecisionTreeRegressor(criterion='mse',splitter='best',min_samples_split=3, max_depth=50,  min_samples_leaf=7)\n",
    "dt.fit(train_X,train_y)\n",
    "y_pred= dt.predict(val_X)\n",
    "\n",
    "dt_regressor= evaluate(dt,val_X,val_y)\n"
   ]
  },
  {
   "cell_type": "code",
   "execution_count": null,
   "metadata": {
    "id": "-3eFj2jT1bl7"
   },
   "outputs": [],
   "source": [
    "def evaluate(model, test_features, test_labels):\n",
    "    predictions = model.predict(test_features)\n",
    "    errors = abs(predictions - test_labels)\n",
    "    mape = 100 * np.mean(errors / test_labels)\n",
    "    accuracy = 100 - mape\n",
    "    print('Model Performance')\n",
    "    print('Average Error: {:0.4f} degrees.'.format(np.mean(errors)))\n",
    "    print('Accuracy = {:0.2f}%.'.format(accuracy))\n",
    "    \n",
    "    return accuracy"
   ]
  },
  {
   "cell_type": "code",
   "execution_count": null,
   "metadata": {
    "colab": {
     "base_uri": "https://localhost:8080/"
    },
    "executionInfo": {
     "elapsed": 1331,
     "status": "ok",
     "timestamp": 1627421194840,
     "user": {
      "displayName": "Souleymane Sow",
      "photoUrl": "https://lh3.googleusercontent.com/a-/AOh14GiZWlXwgoaaEFr05Bcn0eq1s8bT_PdxHCydRoTXYw=s64",
      "userId": "17552321789150987035"
     },
     "user_tz": -120
    },
    "id": "QpcGBxaS1bl7",
    "outputId": "cad08f23-81dd-45e4-ede1-f412d5380a98"
   },
   "outputs": [
    {
     "name": "stdout",
     "output_type": "stream",
     "text": [
      "Model Performance\n",
      "Average Error: 223272.5548 degrees.\n",
      "Accuracy = 80.48%.\n"
     ]
    }
   ],
   "source": [
    "from scipy.stats import randint \n",
    "from sklearn.tree import DecisionTreeClassifier \n",
    "from sklearn.model_selection import RandomizedSearchCV \n",
    "  \n",
    "# Creating the hyperparameter grid  \n",
    "param_dist = {\"max_depth\": randint(1,100), \n",
    "              \"min_samples_split\": randint(2, 40), \n",
    "              \"min_samples_leaf\": randint(1, 50),\n",
    "             \"max_leaf_nodes\":randint(1,200)} \n",
    "  \n",
    "# Instantiating Decision Tree classifier \n",
    "tree = DecisionTreeRegressor() \n",
    "  \n",
    "# Instantiating RandomizedSearchCV object \n",
    "tree_cv = RandomizedSearchCV(tree, param_dist, cv = 5) \n",
    "  \n",
    "tree_cv.fit(train_X, train_y) \n",
    "  \n",
    "tree_accuracy= evaluate(tree_cv,val_X,val_y)"
   ]
  },
  {
   "cell_type": "code",
   "execution_count": null,
   "metadata": {
    "id": "6tATfebA1bl9"
   },
   "outputs": [],
   "source": [
    "def evaluate(model, test_features, test_labels):\n",
    "    predictions = model.predict(test_features)\n",
    "    errors = abs(predictions - test_labels)\n",
    "    mape = 100 * np.mean(errors / test_labels)\n",
    "    accuracy = 100 - mape\n",
    "    print('Model Performance')\n",
    "    print('Average Error: {:0.4f} degrees.'.format(np.mean(errors)))\n",
    "    print('Accuracy = {:0.2f}%.'.format(accuracy))\n",
    "    \n",
    "    return accuracy"
   ]
  },
  {
   "cell_type": "code",
   "execution_count": null,
   "metadata": {
    "colab": {
     "base_uri": "https://localhost:8080/"
    },
    "executionInfo": {
     "elapsed": 3608,
     "status": "ok",
     "timestamp": 1627421200605,
     "user": {
      "displayName": "Souleymane Sow",
      "photoUrl": "https://lh3.googleusercontent.com/a-/AOh14GiZWlXwgoaaEFr05Bcn0eq1s8bT_PdxHCydRoTXYw=s64",
      "userId": "17552321789150987035"
     },
     "user_tz": -120
    },
    "id": "tewCB4CL1bl-",
    "outputId": "08dda29b-99eb-4f7e-e75f-3b3c68ecdda8"
   },
   "outputs": [
    {
     "name": "stdout",
     "output_type": "stream",
     "text": [
      "Model Performance\n",
      "Average Error: 170589.5406 degrees.\n",
      "Accuracy = 85.27%.\n"
     ]
    }
   ],
   "source": [
    "from sklearn.ensemble import RandomForestRegressor\n",
    "rt_model = RandomForestRegressor(n_estimators=100,random_state=0)\n",
    "rt_model.fit(train_X,train_y)\n",
    "random_forest_accuracy= evaluate(rt_model,val_X,val_y)"
   ]
  },
  {
   "cell_type": "code",
   "execution_count": null,
   "metadata": {
    "colab": {
     "base_uri": "https://localhost:8080/"
    },
    "executionInfo": {
     "elapsed": 28,
     "status": "ok",
     "timestamp": 1627421200607,
     "user": {
      "displayName": "Souleymane Sow",
      "photoUrl": "https://lh3.googleusercontent.com/a-/AOh14GiZWlXwgoaaEFr05Bcn0eq1s8bT_PdxHCydRoTXYw=s64",
      "userId": "17552321789150987035"
     },
     "user_tz": -120
    },
    "id": "RvTVyVn71bmA",
    "outputId": "32a24b0b-86ff-4c7b-ca12-410d4f9d5896"
   },
   "outputs": [
    {
     "name": "stdout",
     "output_type": "stream",
     "text": [
      "Parameters currently in use:\n",
      "\n",
      "{'bootstrap': True,\n",
      " 'ccp_alpha': 0.0,\n",
      " 'criterion': 'mse',\n",
      " 'max_depth': None,\n",
      " 'max_features': 'auto',\n",
      " 'max_leaf_nodes': None,\n",
      " 'max_samples': None,\n",
      " 'min_impurity_decrease': 0.0,\n",
      " 'min_impurity_split': None,\n",
      " 'min_samples_leaf': 1,\n",
      " 'min_samples_split': 2,\n",
      " 'min_weight_fraction_leaf': 0.0,\n",
      " 'n_estimators': 100,\n",
      " 'n_jobs': None,\n",
      " 'oob_score': False,\n",
      " 'random_state': 0,\n",
      " 'verbose': 0,\n",
      " 'warm_start': False}\n"
     ]
    }
   ],
   "source": [
    "from pprint import pprint\n",
    "# Look at parameters used by our current forest\n",
    "print('Parameters currently in use:\\n')\n",
    "pprint(rt_model.get_params())"
   ]
  },
  {
   "cell_type": "code",
   "execution_count": null,
   "metadata": {
    "colab": {
     "base_uri": "https://localhost:8080/"
    },
    "executionInfo": {
     "elapsed": 296,
     "status": "ok",
     "timestamp": 1627330431584,
     "user": {
      "displayName": "Souleymane Sow",
      "photoUrl": "https://lh3.googleusercontent.com/a-/AOh14GiZWlXwgoaaEFr05Bcn0eq1s8bT_PdxHCydRoTXYw=s64",
      "userId": "17552321789150987035"
     },
     "user_tz": -120
    },
    "id": "ZIMpkjw71bmC",
    "outputId": "18d33c0e-560e-4afb-d3ee-a9a9d5be5fa1"
   },
   "outputs": [
    {
     "name": "stdout",
     "output_type": "stream",
     "text": [
      "{'bootstrap': [True, False],\n",
      " 'max_depth': [10, 20, 30, 40, 50, 60, 70, 80, 90, 100, 110, None],\n",
      " 'max_features': ['auto', 'sqrt'],\n",
      " 'min_samples_leaf': [1, 2, 4],\n",
      " 'min_samples_split': [2, 5, 10],\n",
      " 'n_estimators': [200, 400, 600, 800, 1000, 1200, 1400, 1600, 1800, 2000]}\n"
     ]
    },
    {
     "data": {
      "text/plain": [
       "{'bootstrap': [True, False],\n",
       " 'max_depth': [10, 20, 30, 40, 50, 60, 70, 80, 90, 100, None],\n",
       " 'max_features': ['auto', 'sqrt'],\n",
       " 'min_samples_leaf': [1, 2, 4],\n",
       " 'min_samples_split': [2, 5, 10],\n",
       " 'n_estimators': [200, 400, 600, 800, 1000, 1200, 1400, 1600, 1800, 2000]}"
      ]
     },
     "execution_count": 58,
     "metadata": {
      "tags": []
     },
     "output_type": "execute_result"
    }
   ],
   "source": [
    "from sklearn.model_selection import RandomizedSearchCV\n",
    "# Number of trees in random forest\n",
    "n_estimators = [int(x) for x in np.linspace(start = 200, stop = 2000, num = 10)]\n",
    "# Number of features to consider at every split\n",
    "max_features = ['auto', 'sqrt']\n",
    "# Maximum number of levels in tree\n",
    "max_depth = [int(x) for x in np.linspace(10, 110, num = 11)]\n",
    "max_depth.append(None)\n",
    "# Minimum number of samples required to split a node\n",
    "min_samples_split = [2, 5, 10]\n",
    "# Minimum number of samples required at each leaf node\n",
    "min_samples_leaf = [1, 2, 4]\n",
    "# Method of selecting samples for training each tree\n",
    "bootstrap = [True, False]\n",
    "# Create the random grid\n",
    "random_grid = {'n_estimators': n_estimators,\n",
    "               'max_features': max_features,\n",
    "               'max_depth': max_depth,\n",
    "               'min_samples_split': min_samples_split,\n",
    "               'min_samples_leaf': min_samples_leaf,\n",
    "               'bootstrap': bootstrap}\n",
    "pprint(random_grid)\n",
    "{'bootstrap': [True, False],\n",
    " 'max_depth': [10, 20, 30, 40, 50, 60, 70, 80, 90, 100, None],\n",
    " 'max_features': ['auto', 'sqrt'],\n",
    " 'min_samples_leaf': [1, 2, 4],\n",
    " 'min_samples_split': [2, 5, 10],\n",
    " 'n_estimators': [200, 400, 600, 800, 1000, 1200, 1400, 1600, 1800, 2000]}"
   ]
  },
  {
   "cell_type": "code",
   "execution_count": null,
   "metadata": {
    "colab": {
     "base_uri": "https://localhost:8080/"
    },
    "executionInfo": {
     "elapsed": 197,
     "status": "ok",
     "timestamp": 1627421210724,
     "user": {
      "displayName": "Souleymane Sow",
      "photoUrl": "https://lh3.googleusercontent.com/a-/AOh14GiZWlXwgoaaEFr05Bcn0eq1s8bT_PdxHCydRoTXYw=s64",
      "userId": "17552321789150987035"
     },
     "user_tz": -120
    },
    "id": "22ZTGI9t9dqe",
    "outputId": "3ce67691-6746-4030-e52a-e7797d5c25c1"
   },
   "outputs": [
    {
     "name": "stdout",
     "output_type": "stream",
     "text": [
      "{'bootstrap': [True, False],\n",
      " 'max_depth': [10, 20, 30, 40, 50, 60, 70, None],\n",
      " 'max_features': ['auto', 'sqrt'],\n",
      " 'min_samples_leaf': [1, 2, 4],\n",
      " 'min_samples_split': [2, 5, 10],\n",
      " 'n_estimators': [200, 400, 600]}\n"
     ]
    },
    {
     "data": {
      "text/plain": [
       "{'bootstrap': [True, False],\n",
       " 'max_depth': [10, 20, 30, 40, 50, 60, 70, None],\n",
       " 'max_features': ['auto', 'sqrt'],\n",
       " 'min_samples_leaf': [1, 2, 4],\n",
       " 'min_samples_split': [2, 5, 10],\n",
       " 'n_estimators': [200, 400, 600]}"
      ]
     },
     "execution_count": 82,
     "metadata": {
      "tags": []
     },
     "output_type": "execute_result"
    }
   ],
   "source": [
    "from sklearn.model_selection import RandomizedSearchCV\n",
    "# Number of trees in random forest\n",
    "n_estimators = [int(x) for x in np.linspace(start = 200, stop = 600, num = 3)]\n",
    "# Number of features to consider at every split\n",
    "max_features = ['auto', 'sqrt']\n",
    "# Maximum number of levels in tree\n",
    "max_depth = [int(x) for x in np.linspace(10, 70, num = 7)]\n",
    "max_depth.append(None)\n",
    "# Minimum number of samples required to split a node\n",
    "min_samples_split = [2, 5, 10]\n",
    "# Minimum number of samples required at each leaf node\n",
    "min_samples_leaf = [1, 2, 4]\n",
    "# Method of selecting samples for training each tree\n",
    "bootstrap = [True, False]\n",
    "# Create the random grid\n",
    "random_grid = {'n_estimators': n_estimators,\n",
    "               'max_features': max_features,\n",
    "               'max_depth': max_depth,\n",
    "               'min_samples_split': min_samples_split,\n",
    "               'min_samples_leaf': min_samples_leaf,\n",
    "               'bootstrap': bootstrap}\n",
    "pprint(random_grid)\n",
    "{'bootstrap': [True, False],\n",
    " 'max_depth': [10, 20, 30, 40, 50, 60, 70,None],\n",
    " 'max_features': ['auto', 'sqrt'],\n",
    " 'min_samples_leaf': [1, 2, 4],\n",
    " 'min_samples_split': [2, 5, 10],\n",
    " 'n_estimators': [200, 400, 600]}"
   ]
  },
  {
   "cell_type": "code",
   "execution_count": null,
   "metadata": {
    "colab": {
     "base_uri": "https://localhost:8080/"
    },
    "executionInfo": {
     "elapsed": 597443,
     "status": "ok",
     "timestamp": 1627421813221,
     "user": {
      "displayName": "Souleymane Sow",
      "photoUrl": "https://lh3.googleusercontent.com/a-/AOh14GiZWlXwgoaaEFr05Bcn0eq1s8bT_PdxHCydRoTXYw=s64",
      "userId": "17552321789150987035"
     },
     "user_tz": -120
    },
    "id": "_lGu2yeCtGqT",
    "outputId": "39725aca-9602-441d-f689-c94b0d01edcc"
   },
   "outputs": [
    {
     "name": "stdout",
     "output_type": "stream",
     "text": [
      "Fitting 3 folds for each of 40 candidates, totalling 120 fits\n"
     ]
    },
    {
     "name": "stderr",
     "output_type": "stream",
     "text": [
      "[Parallel(n_jobs=-1)]: Using backend LokyBackend with 2 concurrent workers.\n",
      "[Parallel(n_jobs=-1)]: Done  37 tasks      | elapsed:  2.4min\n",
      "/usr/local/lib/python3.7/dist-packages/joblib/externals/loky/process_executor.py:691: UserWarning: A worker stopped while some jobs were given to the executor. This can be caused by a too short worker timeout or by a memory leak.\n",
      "  \"timeout or by a memory leak.\", UserWarning\n",
      "[Parallel(n_jobs=-1)]: Done 120 out of 120 | elapsed:  9.8min finished\n"
     ]
    },
    {
     "data": {
      "text/plain": [
       "RandomizedSearchCV(cv=3, error_score=nan,\n",
       "                   estimator=RandomForestRegressor(bootstrap=True,\n",
       "                                                   ccp_alpha=0.0,\n",
       "                                                   criterion='mse',\n",
       "                                                   max_depth=None,\n",
       "                                                   max_features='auto',\n",
       "                                                   max_leaf_nodes=None,\n",
       "                                                   max_samples=None,\n",
       "                                                   min_impurity_decrease=0.0,\n",
       "                                                   min_impurity_split=None,\n",
       "                                                   min_samples_leaf=1,\n",
       "                                                   min_samples_split=2,\n",
       "                                                   min_weight_fraction_leaf=0.0,\n",
       "                                                   n_estimators=100,\n",
       "                                                   n_jobs=None, oob_score=Fals...\n",
       "                                                   warm_start=False),\n",
       "                   iid='deprecated', n_iter=40, n_jobs=-1,\n",
       "                   param_distributions={'bootstrap': [True, False],\n",
       "                                        'max_depth': [10, 20, 30, 40, 50, 60,\n",
       "                                                      70, None],\n",
       "                                        'max_features': ['auto', 'sqrt'],\n",
       "                                        'min_samples_leaf': [1, 2, 4],\n",
       "                                        'min_samples_split': [2, 5, 10],\n",
       "                                        'n_estimators': [200, 400, 600]},\n",
       "                   pre_dispatch='2*n_jobs', random_state=42, refit=True,\n",
       "                   return_train_score=False, scoring=None, verbose=2)"
      ]
     },
     "execution_count": 83,
     "metadata": {
      "tags": []
     },
     "output_type": "execute_result"
    }
   ],
   "source": [
    "# Use the random grid to search for best hyperparameters\n",
    "# First create the base model to tune\n",
    "rf = RandomForestRegressor()\n",
    "# Random search of parameters, using 3 fold cross validation, \n",
    "# search across 100 different combinations, and use all available cores\n",
    "rf_random = RandomizedSearchCV(estimator = rf, param_distributions = random_grid, n_iter =40, cv = 3, verbose=2, random_state=42, n_jobs = -1)\n",
    "# Fit the random search model\n",
    "rf_random.fit(train_X, train_y)"
   ]
  },
  {
   "cell_type": "code",
   "execution_count": null,
   "metadata": {
    "colab": {
     "base_uri": "https://localhost:8080/"
    },
    "executionInfo": {
     "elapsed": 242,
     "status": "ok",
     "timestamp": 1627421821258,
     "user": {
      "displayName": "Souleymane Sow",
      "photoUrl": "https://lh3.googleusercontent.com/a-/AOh14GiZWlXwgoaaEFr05Bcn0eq1s8bT_PdxHCydRoTXYw=s64",
      "userId": "17552321789150987035"
     },
     "user_tz": -120
    },
    "id": "ZNQCgkAV1bmF",
    "outputId": "0c26e04e-e103-4671-8ebb-35318bd0e032"
   },
   "outputs": [
    {
     "data": {
      "text/plain": [
       "{'bootstrap': False,\n",
       " 'max_depth': 40,\n",
       " 'max_features': 'sqrt',\n",
       " 'min_samples_leaf': 2,\n",
       " 'min_samples_split': 2,\n",
       " 'n_estimators': 400}"
      ]
     },
     "execution_count": 84,
     "metadata": {
      "tags": []
     },
     "output_type": "execute_result"
    }
   ],
   "source": [
    "rf_random.best_params_"
   ]
  },
  {
   "cell_type": "code",
   "execution_count": null,
   "metadata": {
    "id": "rwXlK8_d1bmH"
   },
   "outputs": [],
   "source": [
    "def evaluate(model, test_features, test_labels):\n",
    "    predictions = model.predict(test_features)\n",
    "    errors = abs(predictions - test_labels)\n",
    "    mape = 100 * np.mean(errors / test_labels)\n",
    "    accuracy = 100 - mape\n",
    "    print('Model Performance')\n",
    "    print('Average Error: {:0.4f} degrees.'.format(np.mean(errors)))\n",
    "    print('Accuracy = {:0.2f}%.'.format(accuracy))\n",
    "    \n",
    "    return accuracy"
   ]
  },
  {
   "cell_type": "code",
   "execution_count": null,
   "metadata": {
    "colab": {
     "base_uri": "https://localhost:8080/"
    },
    "executionInfo": {
     "elapsed": 309,
     "status": "ok",
     "timestamp": 1627421823690,
     "user": {
      "displayName": "Souleymane Sow",
      "photoUrl": "https://lh3.googleusercontent.com/a-/AOh14GiZWlXwgoaaEFr05Bcn0eq1s8bT_PdxHCydRoTXYw=s64",
      "userId": "17552321789150987035"
     },
     "user_tz": -120
    },
    "id": "-OV5du7CmBaK",
    "outputId": "52778d52-928e-45b4-ea42-6e9241f164e1"
   },
   "outputs": [
    {
     "name": "stdout",
     "output_type": "stream",
     "text": [
      "Model Performance\n",
      "Average Error: 166921.7516 degrees.\n",
      "Accuracy = 85.79%.\n",
      "Model Performance\n",
      "Average Error: 170589.5406 degrees.\n",
      "Accuracy = 85.27%.\n",
      "Improvement of 0.61%.\n"
     ]
    }
   ],
   "source": [
    "best_random = rf_random.best_estimator_\n",
    "random_accuracy = evaluate(best_random, val_X, val_y)\n",
    "\n",
    "basemodel_accuracy= evaluate(rt_model,val_X,val_y)\n",
    "\n",
    "print('Improvement of {:0.2f}%.'.format( 100 * (random_accuracy - basemodel_accuracy) / basemodel_accuracy))"
   ]
  },
  {
   "cell_type": "code",
   "execution_count": null,
   "metadata": {
    "colab": {
     "base_uri": "https://localhost:8080/"
    },
    "executionInfo": {
     "elapsed": 1119,
     "status": "ok",
     "timestamp": 1627421829851,
     "user": {
      "displayName": "Souleymane Sow",
      "photoUrl": "https://lh3.googleusercontent.com/a-/AOh14GiZWlXwgoaaEFr05Bcn0eq1s8bT_PdxHCydRoTXYw=s64",
      "userId": "17552321789150987035"
     },
     "user_tz": -120
    },
    "id": "zf2uhXkv1bmJ",
    "outputId": "115c70c0-9212-4161-ea71-9deb41b0cfda"
   },
   "outputs": [
    {
     "data": {
      "text/plain": [
       "['housepriceprediction.joblib']"
      ]
     },
     "execution_count": 87,
     "metadata": {
      "tags": []
     },
     "output_type": "execute_result"
    }
   ],
   "source": [
    "from joblib import dump,load\n",
    "dump(best_random,'housepriceprediction.joblib')"
   ]
  }
 ],
 "metadata": {
  "colab": {
   "collapsed_sections": [],
   "name": "DecisionTrees.ipynb",
   "provenance": []
  },
  "kernelspec": {
   "display_name": "Python 3",
   "language": "python",
   "name": "python3"
  },
  "language_info": {
   "codemirror_mode": {
    "name": "ipython",
    "version": 3
   },
   "file_extension": ".py",
   "mimetype": "text/x-python",
   "name": "python",
   "nbconvert_exporter": "python",
   "pygments_lexer": "ipython3",
   "version": "3.8.8"
  }
 },
 "nbformat": 4,
 "nbformat_minor": 4
}
